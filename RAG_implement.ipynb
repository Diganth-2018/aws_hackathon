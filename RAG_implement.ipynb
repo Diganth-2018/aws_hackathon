{
 "cells": [
  {
   "cell_type": "code",
   "execution_count": 1,
   "id": "97c35ea2",
   "metadata": {},
   "outputs": [
    {
     "name": "stdout",
     "output_type": "stream",
     "text": [
      "Collecting opensearch-py==2.3.1\n",
      "  Downloading opensearch_py-2.3.1-py2.py3-none-any.whl.metadata (6.9 kB)\n",
      "Collecting urllib3<2,>=1.21.1 (from opensearch-py==2.3.1)\n",
      "  Downloading urllib3-1.26.18-py2.py3-none-any.whl.metadata (48 kB)\n",
      "\u001b[2K     \u001b[90m━━━━━━━━━━━━━━━━━━━━━━━━━━━━━━━━━━━━━━━━\u001b[0m \u001b[32m48.9/48.9 kB\u001b[0m \u001b[31m4.3 MB/s\u001b[0m eta \u001b[36m0:00:00\u001b[0m\n",
      "\u001b[?25hRequirement already satisfied: requests<3.0.0,>=2.4.0 in /home/ec2-user/anaconda3/envs/python3/lib/python3.10/site-packages (from opensearch-py==2.3.1) (2.31.0)\n",
      "Requirement already satisfied: six in /home/ec2-user/anaconda3/envs/python3/lib/python3.10/site-packages (from opensearch-py==2.3.1) (1.16.0)\n",
      "Requirement already satisfied: python-dateutil in /home/ec2-user/anaconda3/envs/python3/lib/python3.10/site-packages (from opensearch-py==2.3.1) (2.9.0)\n",
      "Requirement already satisfied: certifi>=2022.12.07 in /home/ec2-user/anaconda3/envs/python3/lib/python3.10/site-packages (from opensearch-py==2.3.1) (2024.2.2)\n",
      "Requirement already satisfied: charset-normalizer<4,>=2 in /home/ec2-user/anaconda3/envs/python3/lib/python3.10/site-packages (from requests<3.0.0,>=2.4.0->opensearch-py==2.3.1) (3.3.2)\n",
      "Requirement already satisfied: idna<4,>=2.5 in /home/ec2-user/anaconda3/envs/python3/lib/python3.10/site-packages (from requests<3.0.0,>=2.4.0->opensearch-py==2.3.1) (3.6)\n",
      "Downloading opensearch_py-2.3.1-py2.py3-none-any.whl (327 kB)\n",
      "\u001b[2K   \u001b[90m━━━━━━━━━━━━━━━━━━━━━━━━━━━━━━━━━━━━━━━━\u001b[0m \u001b[32m327.3/327.3 kB\u001b[0m \u001b[31m10.6 MB/s\u001b[0m eta \u001b[36m0:00:00\u001b[0m\n",
      "\u001b[?25hDownloading urllib3-1.26.18-py2.py3-none-any.whl (143 kB)\n",
      "\u001b[2K   \u001b[90m━━━━━━━━━━━━━━━━━━━━━━━━━━━━━━━━━━━━━━━━\u001b[0m \u001b[32m143.8/143.8 kB\u001b[0m \u001b[31m29.1 MB/s\u001b[0m eta \u001b[36m0:00:00\u001b[0m\n",
      "\u001b[?25hInstalling collected packages: urllib3, opensearch-py\n",
      "  Attempting uninstall: urllib3\n",
      "    Found existing installation: urllib3 2.2.1\n",
      "    Uninstalling urllib3-2.2.1:\n",
      "      Successfully uninstalled urllib3-2.2.1\n",
      "\u001b[31mERROR: pip's dependency resolver does not currently take into account all the packages that are installed. This behaviour is the source of the following dependency conflicts.\n",
      "sparkmagic 0.21.0 requires pandas<2.0.0,>=0.17.1, but you have pandas 2.2.1 which is incompatible.\n",
      "sphinx 7.2.6 requires docutils<0.21,>=0.18.1, but you have docutils 0.16 which is incompatible.\u001b[0m\u001b[31m\n",
      "\u001b[0mSuccessfully installed opensearch-py-2.3.1 urllib3-1.26.18\n",
      "Note: you may need to restart the kernel to use updated packages.\n",
      "Collecting boto3==1.33.2\n",
      "  Downloading boto3-1.33.2-py3-none-any.whl.metadata (6.7 kB)\n",
      "Collecting botocore<1.34.0,>=1.33.2 (from boto3==1.33.2)\n",
      "  Downloading botocore-1.33.13-py3-none-any.whl.metadata (6.1 kB)\n",
      "Requirement already satisfied: jmespath<2.0.0,>=0.7.1 in /home/ec2-user/anaconda3/envs/python3/lib/python3.10/site-packages (from boto3==1.33.2) (1.0.1)\n",
      "Collecting s3transfer<0.9.0,>=0.8.0 (from boto3==1.33.2)\n",
      "  Downloading s3transfer-0.8.2-py3-none-any.whl.metadata (1.8 kB)\n",
      "Requirement already satisfied: python-dateutil<3.0.0,>=2.1 in /home/ec2-user/anaconda3/envs/python3/lib/python3.10/site-packages (from botocore<1.34.0,>=1.33.2->boto3==1.33.2) (2.9.0)\n",
      "Requirement already satisfied: urllib3<2.1,>=1.25.4 in /home/ec2-user/anaconda3/envs/python3/lib/python3.10/site-packages (from botocore<1.34.0,>=1.33.2->boto3==1.33.2) (1.26.18)\n",
      "Requirement already satisfied: six>=1.5 in /home/ec2-user/anaconda3/envs/python3/lib/python3.10/site-packages (from python-dateutil<3.0.0,>=2.1->botocore<1.34.0,>=1.33.2->boto3==1.33.2) (1.16.0)\n",
      "Downloading boto3-1.33.2-py3-none-any.whl (139 kB)\n",
      "\u001b[2K   \u001b[90m━━━━━━━━━━━━━━━━━━━━━━━━━━━━━━━━━━━━━━━━\u001b[0m \u001b[32m139.1/139.1 kB\u001b[0m \u001b[31m6.2 MB/s\u001b[0m eta \u001b[36m0:00:00\u001b[0m\n",
      "\u001b[?25hDownloading botocore-1.33.13-py3-none-any.whl (11.8 MB)\n",
      "\u001b[2K   \u001b[90m━━━━━━━━━━━━━━━━━━━━━━━━━━━━━━━━━━━━━━━━\u001b[0m \u001b[32m11.8/11.8 MB\u001b[0m \u001b[31m110.4 MB/s\u001b[0m eta \u001b[36m0:00:00\u001b[0m00:01\u001b[0m:01\u001b[0m\n",
      "\u001b[?25hDownloading s3transfer-0.8.2-py3-none-any.whl (82 kB)\n",
      "\u001b[2K   \u001b[90m━━━━━━━━━━━━━━━━━━━━━━━━━━━━━━━━━━━━━━━━\u001b[0m \u001b[32m82.0/82.0 kB\u001b[0m \u001b[31m16.2 MB/s\u001b[0m eta \u001b[36m0:00:00\u001b[0m\n",
      "\u001b[?25hInstalling collected packages: botocore, s3transfer, boto3\n",
      "  Attempting uninstall: botocore\n",
      "    Found existing installation: botocore 1.34.101\n",
      "    Uninstalling botocore-1.34.101:\n",
      "      Successfully uninstalled botocore-1.34.101\n",
      "  Attempting uninstall: s3transfer\n",
      "    Found existing installation: s3transfer 0.10.1\n",
      "    Uninstalling s3transfer-0.10.1:\n",
      "      Successfully uninstalled s3transfer-0.10.1\n",
      "  Attempting uninstall: boto3\n",
      "    Found existing installation: boto3 1.34.101\n",
      "    Uninstalling boto3-1.34.101:\n",
      "      Successfully uninstalled boto3-1.34.101\n",
      "\u001b[31mERROR: pip's dependency resolver does not currently take into account all the packages that are installed. This behaviour is the source of the following dependency conflicts.\n",
      "awscli 1.32.101 requires botocore==1.34.101, but you have botocore 1.33.13 which is incompatible.\n",
      "awscli 1.32.101 requires s3transfer<0.11.0,>=0.10.0, but you have s3transfer 0.8.2 which is incompatible.\n",
      "sagemaker 2.219.0 requires boto3<2.0,>=1.33.3, but you have boto3 1.33.2 which is incompatible.\u001b[0m\u001b[31m\n",
      "\u001b[0mSuccessfully installed boto3-1.33.2 botocore-1.33.13 s3transfer-0.8.2\n",
      "Note: you may need to restart the kernel to use updated packages.\n",
      "Collecting retrying==1.3.4\n",
      "  Downloading retrying-1.3.4-py3-none-any.whl.metadata (6.9 kB)\n",
      "Requirement already satisfied: six>=1.7.0 in /home/ec2-user/anaconda3/envs/python3/lib/python3.10/site-packages (from retrying==1.3.4) (1.16.0)\n",
      "Downloading retrying-1.3.4-py3-none-any.whl (11 kB)\n",
      "Installing collected packages: retrying\n",
      "Successfully installed retrying-1.3.4\n",
      "Note: you may need to restart the kernel to use updated packages.\n",
      "Collecting langchain\n",
      "  Downloading langchain-0.2.2-py3-none-any.whl.metadata (13 kB)\n",
      "Requirement already satisfied: PyYAML>=5.3 in /home/ec2-user/anaconda3/envs/python3/lib/python3.10/site-packages (from langchain) (6.0.1)\n",
      "Requirement already satisfied: SQLAlchemy<3,>=1.4 in /home/ec2-user/anaconda3/envs/python3/lib/python3.10/site-packages (from langchain) (2.0.29)\n",
      "Requirement already satisfied: aiohttp<4.0.0,>=3.8.3 in /home/ec2-user/anaconda3/envs/python3/lib/python3.10/site-packages (from langchain) (3.9.3)\n",
      "Requirement already satisfied: async-timeout<5.0.0,>=4.0.0 in /home/ec2-user/anaconda3/envs/python3/lib/python3.10/site-packages (from langchain) (4.0.3)\n",
      "Collecting langchain-core<0.3.0,>=0.2.0 (from langchain)\n",
      "  Downloading langchain_core-0.2.4-py3-none-any.whl.metadata (5.9 kB)\n",
      "Collecting langchain-text-splitters<0.3.0,>=0.2.0 (from langchain)\n",
      "  Downloading langchain_text_splitters-0.2.1-py3-none-any.whl.metadata (2.2 kB)\n",
      "Collecting langsmith<0.2.0,>=0.1.17 (from langchain)\n",
      "  Downloading langsmith-0.1.74-py3-none-any.whl.metadata (13 kB)\n",
      "Requirement already satisfied: numpy<2,>=1 in /home/ec2-user/anaconda3/envs/python3/lib/python3.10/site-packages (from langchain) (1.22.4)\n",
      "Collecting pydantic<3,>=1 (from langchain)\n",
      "  Downloading pydantic-2.7.3-py3-none-any.whl.metadata (108 kB)\n",
      "\u001b[2K     \u001b[90m━━━━━━━━━━━━━━━━━━━━━━━━━━━━━━━━━━━━━━━\u001b[0m \u001b[32m109.0/109.0 kB\u001b[0m \u001b[31m1.2 MB/s\u001b[0m eta \u001b[36m0:00:00\u001b[0ma \u001b[36m0:00:01\u001b[0m\n",
      "\u001b[?25hRequirement already satisfied: requests<3,>=2 in /home/ec2-user/anaconda3/envs/python3/lib/python3.10/site-packages (from langchain) (2.31.0)\n",
      "Requirement already satisfied: tenacity<9.0.0,>=8.1.0 in /home/ec2-user/anaconda3/envs/python3/lib/python3.10/site-packages (from langchain) (8.2.3)\n",
      "Requirement already satisfied: aiosignal>=1.1.2 in /home/ec2-user/anaconda3/envs/python3/lib/python3.10/site-packages (from aiohttp<4.0.0,>=3.8.3->langchain) (1.3.1)\n",
      "Requirement already satisfied: attrs>=17.3.0 in /home/ec2-user/anaconda3/envs/python3/lib/python3.10/site-packages (from aiohttp<4.0.0,>=3.8.3->langchain) (23.2.0)\n",
      "Requirement already satisfied: frozenlist>=1.1.1 in /home/ec2-user/anaconda3/envs/python3/lib/python3.10/site-packages (from aiohttp<4.0.0,>=3.8.3->langchain) (1.4.1)\n",
      "Requirement already satisfied: multidict<7.0,>=4.5 in /home/ec2-user/anaconda3/envs/python3/lib/python3.10/site-packages (from aiohttp<4.0.0,>=3.8.3->langchain) (6.0.5)\n",
      "Requirement already satisfied: yarl<2.0,>=1.0 in /home/ec2-user/anaconda3/envs/python3/lib/python3.10/site-packages (from aiohttp<4.0.0,>=3.8.3->langchain) (1.9.4)\n",
      "Collecting jsonpatch<2.0,>=1.33 (from langchain-core<0.3.0,>=0.2.0->langchain)\n",
      "  Downloading jsonpatch-1.33-py2.py3-none-any.whl.metadata (3.0 kB)\n",
      "Collecting packaging<24.0,>=23.2 (from langchain-core<0.3.0,>=0.2.0->langchain)\n",
      "  Downloading packaging-23.2-py3-none-any.whl.metadata (3.2 kB)\n",
      "Collecting orjson<4.0.0,>=3.9.14 (from langsmith<0.2.0,>=0.1.17->langchain)\n",
      "  Downloading orjson-3.10.3-cp310-cp310-manylinux_2_17_x86_64.manylinux2014_x86_64.whl.metadata (49 kB)\n",
      "\u001b[2K     \u001b[90m━━━━━━━━━━━━━━━━━━━━━━━━━━━━━━━━━━━━━━━\u001b[0m \u001b[32m49.7/49.7 kB\u001b[0m \u001b[31m944.3 kB/s\u001b[0m eta \u001b[36m0:00:00\u001b[0ma \u001b[36m0:00:01\u001b[0m\n",
      "\u001b[?25hCollecting annotated-types>=0.4.0 (from pydantic<3,>=1->langchain)\n",
      "  Downloading annotated_types-0.7.0-py3-none-any.whl.metadata (15 kB)\n",
      "Collecting pydantic-core==2.18.4 (from pydantic<3,>=1->langchain)\n",
      "  Downloading pydantic_core-2.18.4-cp310-cp310-manylinux_2_17_x86_64.manylinux2014_x86_64.whl.metadata (6.5 kB)\n",
      "Requirement already satisfied: typing-extensions>=4.6.1 in /home/ec2-user/anaconda3/envs/python3/lib/python3.10/site-packages (from pydantic<3,>=1->langchain) (4.10.0)\n",
      "Requirement already satisfied: charset-normalizer<4,>=2 in /home/ec2-user/anaconda3/envs/python3/lib/python3.10/site-packages (from requests<3,>=2->langchain) (3.3.2)\n",
      "Requirement already satisfied: idna<4,>=2.5 in /home/ec2-user/anaconda3/envs/python3/lib/python3.10/site-packages (from requests<3,>=2->langchain) (3.6)\n",
      "Requirement already satisfied: urllib3<3,>=1.21.1 in /home/ec2-user/anaconda3/envs/python3/lib/python3.10/site-packages (from requests<3,>=2->langchain) (1.26.18)\n",
      "Requirement already satisfied: certifi>=2017.4.17 in /home/ec2-user/anaconda3/envs/python3/lib/python3.10/site-packages (from requests<3,>=2->langchain) (2024.2.2)\n",
      "Requirement already satisfied: greenlet!=0.4.17 in /home/ec2-user/anaconda3/envs/python3/lib/python3.10/site-packages (from SQLAlchemy<3,>=1.4->langchain) (3.0.3)\n",
      "Requirement already satisfied: jsonpointer>=1.9 in /home/ec2-user/anaconda3/envs/python3/lib/python3.10/site-packages (from jsonpatch<2.0,>=1.33->langchain-core<0.3.0,>=0.2.0->langchain) (2.4)\n",
      "Downloading langchain-0.2.2-py3-none-any.whl (973 kB)\n",
      "\u001b[2K   \u001b[90m━━━━━━━━━━━━━━━━━━━━━━━━━━━━━━━━━━━━━━━━\u001b[0m \u001b[32m973.6/973.6 kB\u001b[0m \u001b[31m26.6 MB/s\u001b[0m eta \u001b[36m0:00:00\u001b[0m00:01\u001b[0m\n",
      "\u001b[?25hDownloading langchain_core-0.2.4-py3-none-any.whl (310 kB)\n",
      "\u001b[2K   \u001b[90m━━━━━━━━━━━━━━━━━━━━━━━━━━━━━━━━━━━━━━━━\u001b[0m \u001b[32m310.4/310.4 kB\u001b[0m \u001b[31m43.7 MB/s\u001b[0m eta \u001b[36m0:00:00\u001b[0m\n",
      "\u001b[?25hDownloading langchain_text_splitters-0.2.1-py3-none-any.whl (23 kB)\n",
      "Downloading langsmith-0.1.74-py3-none-any.whl (124 kB)\n",
      "\u001b[2K   \u001b[90m━━━━━━━━━━━━━━━━━━━━━━━━━━━━━━━━━━━━━━━━\u001b[0m \u001b[32m124.8/124.8 kB\u001b[0m \u001b[31m19.9 MB/s\u001b[0m eta \u001b[36m0:00:00\u001b[0m\n",
      "\u001b[?25hDownloading pydantic-2.7.3-py3-none-any.whl (409 kB)\n",
      "\u001b[2K   \u001b[90m━━━━━━━━━━━━━━━━━━━━━━━━━━━━━━━━━━━━━━━━\u001b[0m \u001b[32m409.6/409.6 kB\u001b[0m \u001b[31m49.0 MB/s\u001b[0m eta \u001b[36m0:00:00\u001b[0m\n",
      "\u001b[?25hDownloading pydantic_core-2.18.4-cp310-cp310-manylinux_2_17_x86_64.manylinux2014_x86_64.whl (2.0 MB)\n",
      "\u001b[2K   \u001b[90m━━━━━━━━━━━━━━━━━━━━━━━━━━━━━━━━━━━━━━━━\u001b[0m \u001b[32m2.0/2.0 MB\u001b[0m \u001b[31m17.8 MB/s\u001b[0m eta \u001b[36m0:00:00\u001b[0m:00:01\u001b[0m\n",
      "\u001b[?25hDownloading annotated_types-0.7.0-py3-none-any.whl (13 kB)\n",
      "Downloading jsonpatch-1.33-py2.py3-none-any.whl (12 kB)\n",
      "Downloading orjson-3.10.3-cp310-cp310-manylinux_2_17_x86_64.manylinux2014_x86_64.whl (142 kB)\n",
      "\u001b[2K   \u001b[90m━━━━━━━━━━━━━━━━━━━━━━━━━━━━━━━━━━━━━━━━\u001b[0m \u001b[32m142.5/142.5 kB\u001b[0m \u001b[31m28.7 MB/s\u001b[0m eta \u001b[36m0:00:00\u001b[0m\n",
      "\u001b[?25hDownloading packaging-23.2-py3-none-any.whl (53 kB)\n",
      "\u001b[2K   \u001b[90m━━━━━━━━━━━━━━━━━━━━━━━━━━━━━━━━━━━━━━━━\u001b[0m \u001b[32m53.0/53.0 kB\u001b[0m \u001b[31m10.6 MB/s\u001b[0m eta \u001b[36m0:00:00\u001b[0m\n",
      "\u001b[?25hInstalling collected packages: pydantic-core, packaging, orjson, jsonpatch, annotated-types, pydantic, langsmith, langchain-core, langchain-text-splitters, langchain\n",
      "  Attempting uninstall: packaging\n",
      "    Found existing installation: packaging 21.3\n",
      "    Uninstalling packaging-21.3:\n",
      "      Successfully uninstalled packaging-21.3\n",
      "\u001b[31mERROR: pip's dependency resolver does not currently take into account all the packages that are installed. This behaviour is the source of the following dependency conflicts.\n",
      "sagemaker 2.219.0 requires boto3<2.0,>=1.33.3, but you have boto3 1.33.2 which is incompatible.\n",
      "sparkmagic 0.21.0 requires pandas<2.0.0,>=0.17.1, but you have pandas 2.2.1 which is incompatible.\n",
      "sphinx 7.2.6 requires docutils<0.21,>=0.18.1, but you have docutils 0.16 which is incompatible.\u001b[0m\u001b[31m\n",
      "\u001b[0mSuccessfully installed annotated-types-0.7.0 jsonpatch-1.33 langchain-0.2.2 langchain-core-0.2.4 langchain-text-splitters-0.2.1 langsmith-0.1.74 orjson-3.10.3 packaging-23.2 pydantic-2.7.3 pydantic-core-2.18.4\n",
      "Collecting langchain-community\n",
      "  Downloading langchain_community-0.2.3-py3-none-any.whl.metadata (9.0 kB)\n",
      "Requirement already satisfied: PyYAML>=5.3 in /home/ec2-user/anaconda3/envs/python3/lib/python3.10/site-packages (from langchain-community) (6.0.1)\n",
      "Requirement already satisfied: SQLAlchemy<3,>=1.4 in /home/ec2-user/anaconda3/envs/python3/lib/python3.10/site-packages (from langchain-community) (2.0.29)\n",
      "Requirement already satisfied: aiohttp<4.0.0,>=3.8.3 in /home/ec2-user/anaconda3/envs/python3/lib/python3.10/site-packages (from langchain-community) (3.9.3)\n",
      "Collecting dataclasses-json<0.7,>=0.5.7 (from langchain-community)\n",
      "  Downloading dataclasses_json-0.6.6-py3-none-any.whl.metadata (25 kB)\n",
      "Requirement already satisfied: langchain<0.3.0,>=0.2.0 in /home/ec2-user/anaconda3/envs/python3/lib/python3.10/site-packages (from langchain-community) (0.2.2)\n",
      "Requirement already satisfied: langchain-core<0.3.0,>=0.2.0 in /home/ec2-user/anaconda3/envs/python3/lib/python3.10/site-packages (from langchain-community) (0.2.4)\n",
      "Requirement already satisfied: langsmith<0.2.0,>=0.1.0 in /home/ec2-user/anaconda3/envs/python3/lib/python3.10/site-packages (from langchain-community) (0.1.74)\n",
      "Requirement already satisfied: numpy<2,>=1 in /home/ec2-user/anaconda3/envs/python3/lib/python3.10/site-packages (from langchain-community) (1.22.4)\n",
      "Requirement already satisfied: requests<3,>=2 in /home/ec2-user/anaconda3/envs/python3/lib/python3.10/site-packages (from langchain-community) (2.31.0)\n",
      "Requirement already satisfied: tenacity<9.0.0,>=8.1.0 in /home/ec2-user/anaconda3/envs/python3/lib/python3.10/site-packages (from langchain-community) (8.2.3)\n",
      "Requirement already satisfied: aiosignal>=1.1.2 in /home/ec2-user/anaconda3/envs/python3/lib/python3.10/site-packages (from aiohttp<4.0.0,>=3.8.3->langchain-community) (1.3.1)\n",
      "Requirement already satisfied: attrs>=17.3.0 in /home/ec2-user/anaconda3/envs/python3/lib/python3.10/site-packages (from aiohttp<4.0.0,>=3.8.3->langchain-community) (23.2.0)\n",
      "Requirement already satisfied: frozenlist>=1.1.1 in /home/ec2-user/anaconda3/envs/python3/lib/python3.10/site-packages (from aiohttp<4.0.0,>=3.8.3->langchain-community) (1.4.1)\n",
      "Requirement already satisfied: multidict<7.0,>=4.5 in /home/ec2-user/anaconda3/envs/python3/lib/python3.10/site-packages (from aiohttp<4.0.0,>=3.8.3->langchain-community) (6.0.5)\n",
      "Requirement already satisfied: yarl<2.0,>=1.0 in /home/ec2-user/anaconda3/envs/python3/lib/python3.10/site-packages (from aiohttp<4.0.0,>=3.8.3->langchain-community) (1.9.4)\n",
      "Requirement already satisfied: async-timeout<5.0,>=4.0 in /home/ec2-user/anaconda3/envs/python3/lib/python3.10/site-packages (from aiohttp<4.0.0,>=3.8.3->langchain-community) (4.0.3)\n",
      "Collecting marshmallow<4.0.0,>=3.18.0 (from dataclasses-json<0.7,>=0.5.7->langchain-community)\n",
      "  Downloading marshmallow-3.21.3-py3-none-any.whl.metadata (7.1 kB)\n",
      "Collecting typing-inspect<1,>=0.4.0 (from dataclasses-json<0.7,>=0.5.7->langchain-community)\n",
      "  Downloading typing_inspect-0.9.0-py3-none-any.whl.metadata (1.5 kB)\n",
      "Requirement already satisfied: langchain-text-splitters<0.3.0,>=0.2.0 in /home/ec2-user/anaconda3/envs/python3/lib/python3.10/site-packages (from langchain<0.3.0,>=0.2.0->langchain-community) (0.2.1)\n",
      "Requirement already satisfied: pydantic<3,>=1 in /home/ec2-user/anaconda3/envs/python3/lib/python3.10/site-packages (from langchain<0.3.0,>=0.2.0->langchain-community) (2.7.3)\n",
      "Requirement already satisfied: jsonpatch<2.0,>=1.33 in /home/ec2-user/anaconda3/envs/python3/lib/python3.10/site-packages (from langchain-core<0.3.0,>=0.2.0->langchain-community) (1.33)\n",
      "Requirement already satisfied: packaging<24.0,>=23.2 in /home/ec2-user/anaconda3/envs/python3/lib/python3.10/site-packages (from langchain-core<0.3.0,>=0.2.0->langchain-community) (23.2)\n",
      "Requirement already satisfied: orjson<4.0.0,>=3.9.14 in /home/ec2-user/anaconda3/envs/python3/lib/python3.10/site-packages (from langsmith<0.2.0,>=0.1.0->langchain-community) (3.10.3)\n",
      "Requirement already satisfied: charset-normalizer<4,>=2 in /home/ec2-user/anaconda3/envs/python3/lib/python3.10/site-packages (from requests<3,>=2->langchain-community) (3.3.2)\n",
      "Requirement already satisfied: idna<4,>=2.5 in /home/ec2-user/anaconda3/envs/python3/lib/python3.10/site-packages (from requests<3,>=2->langchain-community) (3.6)\n",
      "Requirement already satisfied: urllib3<3,>=1.21.1 in /home/ec2-user/anaconda3/envs/python3/lib/python3.10/site-packages (from requests<3,>=2->langchain-community) (1.26.18)\n",
      "Requirement already satisfied: certifi>=2017.4.17 in /home/ec2-user/anaconda3/envs/python3/lib/python3.10/site-packages (from requests<3,>=2->langchain-community) (2024.2.2)\n",
      "Requirement already satisfied: typing-extensions>=4.6.0 in /home/ec2-user/anaconda3/envs/python3/lib/python3.10/site-packages (from SQLAlchemy<3,>=1.4->langchain-community) (4.10.0)\n",
      "Requirement already satisfied: greenlet!=0.4.17 in /home/ec2-user/anaconda3/envs/python3/lib/python3.10/site-packages (from SQLAlchemy<3,>=1.4->langchain-community) (3.0.3)\n",
      "Requirement already satisfied: jsonpointer>=1.9 in /home/ec2-user/anaconda3/envs/python3/lib/python3.10/site-packages (from jsonpatch<2.0,>=1.33->langchain-core<0.3.0,>=0.2.0->langchain-community) (2.4)\n",
      "Requirement already satisfied: annotated-types>=0.4.0 in /home/ec2-user/anaconda3/envs/python3/lib/python3.10/site-packages (from pydantic<3,>=1->langchain<0.3.0,>=0.2.0->langchain-community) (0.7.0)\n",
      "Requirement already satisfied: pydantic-core==2.18.4 in /home/ec2-user/anaconda3/envs/python3/lib/python3.10/site-packages (from pydantic<3,>=1->langchain<0.3.0,>=0.2.0->langchain-community) (2.18.4)\n",
      "Requirement already satisfied: mypy-extensions>=0.3.0 in /home/ec2-user/anaconda3/envs/python3/lib/python3.10/site-packages (from typing-inspect<1,>=0.4.0->dataclasses-json<0.7,>=0.5.7->langchain-community) (1.0.0)\n",
      "Downloading langchain_community-0.2.3-py3-none-any.whl (2.2 MB)\n",
      "\u001b[2K   \u001b[90m━━━━━━━━━━━━━━━━━━━━━━━━━━━━━━━━━━━━━━━━\u001b[0m \u001b[32m2.2/2.2 MB\u001b[0m \u001b[31m33.9 MB/s\u001b[0m eta \u001b[36m0:00:00\u001b[0ma \u001b[36m0:00:01\u001b[0m\n",
      "\u001b[?25hDownloading dataclasses_json-0.6.6-py3-none-any.whl (28 kB)\n",
      "Downloading marshmallow-3.21.3-py3-none-any.whl (49 kB)\n",
      "\u001b[2K   \u001b[90m━━━━━━━━━━━━━━━━━━━━━━━━━━━━━━━━━━━━━━━━\u001b[0m \u001b[32m49.2/49.2 kB\u001b[0m \u001b[31m9.2 MB/s\u001b[0m eta \u001b[36m0:00:00\u001b[0m\n",
      "\u001b[?25hDownloading typing_inspect-0.9.0-py3-none-any.whl (8.8 kB)\n",
      "Installing collected packages: typing-inspect, marshmallow, dataclasses-json, langchain-community\n",
      "Successfully installed dataclasses-json-0.6.6 langchain-community-0.2.3 marshmallow-3.21.3 typing-inspect-0.9.0\n",
      "Collecting streamlit\n",
      "  Downloading streamlit-1.35.0-py2.py3-none-any.whl.metadata (8.5 kB)\n",
      "Collecting altair<6,>=4.0 (from streamlit)\n",
      "  Downloading altair-5.3.0-py3-none-any.whl.metadata (9.2 kB)\n",
      "Requirement already satisfied: blinker<2,>=1.0.0 in /home/ec2-user/anaconda3/envs/python3/lib/python3.10/site-packages (from streamlit) (1.7.0)\n",
      "Collecting cachetools<6,>=4.0 (from streamlit)\n",
      "  Downloading cachetools-5.3.3-py3-none-any.whl.metadata (5.3 kB)\n",
      "Requirement already satisfied: click<9,>=7.0 in /home/ec2-user/anaconda3/envs/python3/lib/python3.10/site-packages (from streamlit) (8.1.7)\n",
      "Requirement already satisfied: numpy<2,>=1.19.3 in /home/ec2-user/anaconda3/envs/python3/lib/python3.10/site-packages (from streamlit) (1.22.4)\n",
      "Requirement already satisfied: packaging<25,>=16.8 in /home/ec2-user/anaconda3/envs/python3/lib/python3.10/site-packages (from streamlit) (23.2)\n",
      "Requirement already satisfied: pandas<3,>=1.3.0 in /home/ec2-user/anaconda3/envs/python3/lib/python3.10/site-packages (from streamlit) (2.2.1)\n",
      "Requirement already satisfied: pillow<11,>=7.1.0 in /home/ec2-user/anaconda3/envs/python3/lib/python3.10/site-packages (from streamlit) (10.2.0)\n",
      "Requirement already satisfied: protobuf<5,>=3.20 in /home/ec2-user/anaconda3/envs/python3/lib/python3.10/site-packages (from streamlit) (4.25.3)\n",
      "Requirement already satisfied: pyarrow>=7.0 in /home/ec2-user/anaconda3/envs/python3/lib/python3.10/site-packages (from streamlit) (15.0.2)\n",
      "Requirement already satisfied: requests<3,>=2.27 in /home/ec2-user/anaconda3/envs/python3/lib/python3.10/site-packages (from streamlit) (2.31.0)\n",
      "Requirement already satisfied: rich<14,>=10.14.0 in /home/ec2-user/anaconda3/envs/python3/lib/python3.10/site-packages (from streamlit) (13.7.1)\n",
      "Requirement already satisfied: tenacity<9,>=8.1.0 in /home/ec2-user/anaconda3/envs/python3/lib/python3.10/site-packages (from streamlit) (8.2.3)\n",
      "Requirement already satisfied: toml<2,>=0.10.1 in /home/ec2-user/anaconda3/envs/python3/lib/python3.10/site-packages (from streamlit) (0.10.2)\n",
      "Requirement already satisfied: typing-extensions<5,>=4.3.0 in /home/ec2-user/anaconda3/envs/python3/lib/python3.10/site-packages (from streamlit) (4.10.0)\n",
      "Collecting gitpython!=3.1.19,<4,>=3.0.7 (from streamlit)\n",
      "  Using cached GitPython-3.1.43-py3-none-any.whl.metadata (13 kB)\n",
      "Collecting pydeck<1,>=0.8.0b4 (from streamlit)\n",
      "  Downloading pydeck-0.9.1-py2.py3-none-any.whl.metadata (4.1 kB)\n",
      "Requirement already satisfied: tornado<7,>=6.0.3 in /home/ec2-user/anaconda3/envs/python3/lib/python3.10/site-packages (from streamlit) (6.4)\n",
      "Requirement already satisfied: watchdog>=2.1.5 in /home/ec2-user/anaconda3/envs/python3/lib/python3.10/site-packages (from streamlit) (4.0.0)\n",
      "Requirement already satisfied: jinja2 in /home/ec2-user/anaconda3/envs/python3/lib/python3.10/site-packages (from altair<6,>=4.0->streamlit) (3.1.3)\n",
      "Requirement already satisfied: jsonschema>=3.0 in /home/ec2-user/anaconda3/envs/python3/lib/python3.10/site-packages (from altair<6,>=4.0->streamlit) (4.21.1)\n",
      "Requirement already satisfied: toolz in /home/ec2-user/anaconda3/envs/python3/lib/python3.10/site-packages (from altair<6,>=4.0->streamlit) (0.12.1)\n",
      "Collecting gitdb<5,>=4.0.1 (from gitpython!=3.1.19,<4,>=3.0.7->streamlit)\n",
      "  Using cached gitdb-4.0.11-py3-none-any.whl.metadata (1.2 kB)\n",
      "Requirement already satisfied: python-dateutil>=2.8.2 in /home/ec2-user/anaconda3/envs/python3/lib/python3.10/site-packages (from pandas<3,>=1.3.0->streamlit) (2.9.0)\n",
      "Requirement already satisfied: pytz>=2020.1 in /home/ec2-user/anaconda3/envs/python3/lib/python3.10/site-packages (from pandas<3,>=1.3.0->streamlit) (2024.1)\n",
      "Requirement already satisfied: tzdata>=2022.7 in /home/ec2-user/anaconda3/envs/python3/lib/python3.10/site-packages (from pandas<3,>=1.3.0->streamlit) (2024.1)\n",
      "Requirement already satisfied: charset-normalizer<4,>=2 in /home/ec2-user/anaconda3/envs/python3/lib/python3.10/site-packages (from requests<3,>=2.27->streamlit) (3.3.2)\n",
      "Requirement already satisfied: idna<4,>=2.5 in /home/ec2-user/anaconda3/envs/python3/lib/python3.10/site-packages (from requests<3,>=2.27->streamlit) (3.6)\n",
      "Requirement already satisfied: urllib3<3,>=1.21.1 in /home/ec2-user/anaconda3/envs/python3/lib/python3.10/site-packages (from requests<3,>=2.27->streamlit) (1.26.18)\n",
      "Requirement already satisfied: certifi>=2017.4.17 in /home/ec2-user/anaconda3/envs/python3/lib/python3.10/site-packages (from requests<3,>=2.27->streamlit) (2024.2.2)\n",
      "Requirement already satisfied: markdown-it-py>=2.2.0 in /home/ec2-user/anaconda3/envs/python3/lib/python3.10/site-packages (from rich<14,>=10.14.0->streamlit) (3.0.0)\n",
      "Requirement already satisfied: pygments<3.0.0,>=2.13.0 in /home/ec2-user/anaconda3/envs/python3/lib/python3.10/site-packages (from rich<14,>=10.14.0->streamlit) (2.17.2)\n",
      "Collecting smmap<6,>=3.0.1 (from gitdb<5,>=4.0.1->gitpython!=3.1.19,<4,>=3.0.7->streamlit)\n",
      "  Using cached smmap-5.0.1-py3-none-any.whl.metadata (4.3 kB)\n",
      "Requirement already satisfied: MarkupSafe>=2.0 in /home/ec2-user/anaconda3/envs/python3/lib/python3.10/site-packages (from jinja2->altair<6,>=4.0->streamlit) (2.1.5)\n",
      "Requirement already satisfied: attrs>=22.2.0 in /home/ec2-user/anaconda3/envs/python3/lib/python3.10/site-packages (from jsonschema>=3.0->altair<6,>=4.0->streamlit) (23.2.0)\n",
      "Requirement already satisfied: jsonschema-specifications>=2023.03.6 in /home/ec2-user/anaconda3/envs/python3/lib/python3.10/site-packages (from jsonschema>=3.0->altair<6,>=4.0->streamlit) (2023.12.1)\n",
      "Requirement already satisfied: referencing>=0.28.4 in /home/ec2-user/anaconda3/envs/python3/lib/python3.10/site-packages (from jsonschema>=3.0->altair<6,>=4.0->streamlit) (0.34.0)\n",
      "Requirement already satisfied: rpds-py>=0.7.1 in /home/ec2-user/anaconda3/envs/python3/lib/python3.10/site-packages (from jsonschema>=3.0->altair<6,>=4.0->streamlit) (0.18.0)\n",
      "Requirement already satisfied: mdurl~=0.1 in /home/ec2-user/anaconda3/envs/python3/lib/python3.10/site-packages (from markdown-it-py>=2.2.0->rich<14,>=10.14.0->streamlit) (0.1.2)\n",
      "Requirement already satisfied: six>=1.5 in /home/ec2-user/anaconda3/envs/python3/lib/python3.10/site-packages (from python-dateutil>=2.8.2->pandas<3,>=1.3.0->streamlit) (1.16.0)\n",
      "Downloading streamlit-1.35.0-py2.py3-none-any.whl (8.6 MB)\n",
      "\u001b[2K   \u001b[90m━━━━━━━━━━━━━━━━━━━━━━━━━━━━━━━━━━━━━━━━\u001b[0m \u001b[32m8.6/8.6 MB\u001b[0m \u001b[31m93.5 MB/s\u001b[0m eta \u001b[36m0:00:00\u001b[0m:00:01\u001b[0m0:01\u001b[0m\n",
      "\u001b[?25hDownloading altair-5.3.0-py3-none-any.whl (857 kB)\n",
      "\u001b[2K   \u001b[90m━━━━━━━━━━━━━━━━━━━━━━━━━━━━━━━━━━━━━━━━\u001b[0m \u001b[32m857.8/857.8 kB\u001b[0m \u001b[31m65.8 MB/s\u001b[0m eta \u001b[36m0:00:00\u001b[0m\n",
      "\u001b[?25hDownloading cachetools-5.3.3-py3-none-any.whl (9.3 kB)\n",
      "Using cached GitPython-3.1.43-py3-none-any.whl (207 kB)\n",
      "Downloading pydeck-0.9.1-py2.py3-none-any.whl (6.9 MB)\n",
      "\u001b[2K   \u001b[90m━━━━━━━━━━━━━━━━━━━━━━━━━━━━━━━━━━━━━━━━\u001b[0m \u001b[32m6.9/6.9 MB\u001b[0m \u001b[31m40.5 MB/s\u001b[0m eta \u001b[36m0:00:00\u001b[0m:00:01\u001b[0m\n",
      "\u001b[?25hUsing cached gitdb-4.0.11-py3-none-any.whl (62 kB)\n",
      "Using cached smmap-5.0.1-py3-none-any.whl (24 kB)\n",
      "Installing collected packages: smmap, cachetools, pydeck, gitdb, gitpython, altair, streamlit\n",
      "Successfully installed altair-5.3.0 cachetools-5.3.3 gitdb-4.0.11 gitpython-3.1.43 pydeck-0.9.1 smmap-5.0.1 streamlit-1.35.0\n",
      "Collecting PyPDF2\n",
      "  Downloading pypdf2-3.0.1-py3-none-any.whl.metadata (6.8 kB)\n",
      "Downloading pypdf2-3.0.1-py3-none-any.whl (232 kB)\n",
      "\u001b[2K   \u001b[90m━━━━━━━━━━━━━━━━━━━━━━━━━━━━━━━━━━━━━━━━\u001b[0m \u001b[32m232.6/232.6 kB\u001b[0m \u001b[31m2.8 MB/s\u001b[0m eta \u001b[36m0:00:00\u001b[0mta \u001b[36m0:00:01\u001b[0m\n",
      "\u001b[?25hInstalling collected packages: PyPDF2\n",
      "Successfully installed PyPDF2-3.0.1\n",
      "Requirement already satisfied: tqdm in /home/ec2-user/anaconda3/envs/python3/lib/python3.10/site-packages (4.66.2)\n",
      "Requirement already satisfied: opensearch-py in /home/ec2-user/anaconda3/envs/python3/lib/python3.10/site-packages (2.3.1)\n",
      "Requirement already satisfied: urllib3<2,>=1.21.1 in /home/ec2-user/anaconda3/envs/python3/lib/python3.10/site-packages (from opensearch-py) (1.26.18)\n",
      "Requirement already satisfied: requests<3.0.0,>=2.4.0 in /home/ec2-user/anaconda3/envs/python3/lib/python3.10/site-packages (from opensearch-py) (2.31.0)\n",
      "Requirement already satisfied: six in /home/ec2-user/anaconda3/envs/python3/lib/python3.10/site-packages (from opensearch-py) (1.16.0)\n",
      "Requirement already satisfied: python-dateutil in /home/ec2-user/anaconda3/envs/python3/lib/python3.10/site-packages (from opensearch-py) (2.9.0)\n",
      "Requirement already satisfied: certifi>=2022.12.07 in /home/ec2-user/anaconda3/envs/python3/lib/python3.10/site-packages (from opensearch-py) (2024.2.2)\n",
      "Requirement already satisfied: charset-normalizer<4,>=2 in /home/ec2-user/anaconda3/envs/python3/lib/python3.10/site-packages (from requests<3.0.0,>=2.4.0->opensearch-py) (3.3.2)\n",
      "Requirement already satisfied: idna<4,>=2.5 in /home/ec2-user/anaconda3/envs/python3/lib/python3.10/site-packages (from requests<3.0.0,>=2.4.0->opensearch-py) (3.6)\n",
      "Collecting requests-aws4auth\n",
      "  Downloading requests_aws4auth-1.2.3-py2.py3-none-any.whl.metadata (18 kB)\n",
      "Requirement already satisfied: requests in /home/ec2-user/anaconda3/envs/python3/lib/python3.10/site-packages (from requests-aws4auth) (2.31.0)\n",
      "Requirement already satisfied: six in /home/ec2-user/anaconda3/envs/python3/lib/python3.10/site-packages (from requests-aws4auth) (1.16.0)\n",
      "Requirement already satisfied: charset-normalizer<4,>=2 in /home/ec2-user/anaconda3/envs/python3/lib/python3.10/site-packages (from requests->requests-aws4auth) (3.3.2)\n",
      "Requirement already satisfied: idna<4,>=2.5 in /home/ec2-user/anaconda3/envs/python3/lib/python3.10/site-packages (from requests->requests-aws4auth) (3.6)\n",
      "Requirement already satisfied: urllib3<3,>=1.21.1 in /home/ec2-user/anaconda3/envs/python3/lib/python3.10/site-packages (from requests->requests-aws4auth) (1.26.18)\n",
      "Requirement already satisfied: certifi>=2017.4.17 in /home/ec2-user/anaconda3/envs/python3/lib/python3.10/site-packages (from requests->requests-aws4auth) (2024.2.2)\n",
      "Downloading requests_aws4auth-1.2.3-py2.py3-none-any.whl (24 kB)\n",
      "Installing collected packages: requests-aws4auth\n",
      "Successfully installed requests-aws4auth-1.2.3\n"
     ]
    }
   ],
   "source": [
    "%pip install -U opensearch-py==2.3.1\n",
    "%pip install -U boto3==1.33.2\n",
    "%pip install -U retrying==1.3.4\n",
    "!pip install langchain\n",
    "!pip install langchain-community\n",
    "!pip install streamlit\n",
    "!pip install PyPDF2\n",
    "!pip install tqdm\n",
    "!pip install opensearch-py\n",
    "!pip install requests-aws4auth"
   ]
  },
  {
   "cell_type": "code",
   "execution_count": null,
   "id": "9ecee9d9",
   "metadata": {},
   "outputs": [
    {
     "data": {
      "text/html": [
       "<script>Jupyter.notebook.kernel.restart()</script>"
      ],
      "text/plain": [
       "<IPython.core.display.HTML object>"
      ]
     },
     "execution_count": 2,
     "metadata": {},
     "output_type": "execute_result"
    }
   ],
   "source": [
    "# restart kernel\n",
    "from IPython.core.display import HTML\n",
    "HTML(\"<script>Jupyter.notebook.kernel.restart()</script>\")"
   ]
  },
  {
   "cell_type": "code",
   "execution_count": 1,
   "id": "1dc6d328",
   "metadata": {},
   "outputs": [],
   "source": [
    "import warnings\n",
    "warnings.filterwarnings('ignore')"
   ]
  },
  {
   "cell_type": "code",
   "execution_count": 2,
   "id": "45ccb457",
   "metadata": {},
   "outputs": [],
   "source": [
    "import json\n",
    "import boto3\n",
    "import random\n",
    "import time\n",
    "\n",
    "\n",
    "suffix = random.randrange(200, 900)\n",
    "boto3_session = boto3.session.Session()\n",
    "region_name = boto3_session.region_name\n",
    "iam_client = boto3_session.client('iam')\n",
    "account_number = boto3.client('sts').get_caller_identity().get('Account')\n",
    "identity = boto3.client('sts').get_caller_identity()['Arn']\n",
    "\n",
    "encryption_policy_name = f\"bedrock-sample-rag-sp-{suffix}\"\n",
    "network_policy_name = f\"bedrock-sample-rag-np-{suffix}\"\n",
    "access_policy_name = f'bedrock-sample-rag-ap-{suffix}'\n",
    "bedrock_execution_role_name = f'AmazonBedrockExecutionRoleForKnowledgeBase_{suffix}'\n",
    "fm_policy_name = f'AmazonBedrockFoundationModelPolicyForKnowledgeBase_{suffix}'\n",
    "s3_policy_name = f'AmazonBedrockS3PolicyForKnowledgeBase_{suffix}'\n",
    "oss_policy_name = f'AmazonBedrockOSSPolicyForKnowledgeBase_{suffix}'\n",
    "\n",
    "\n",
    "def create_bedrock_execution_role(bucket_name):\n",
    "    foundation_model_policy_document = {\n",
    "        \"Version\": \"2012-10-17\",\n",
    "        \"Statement\": [\n",
    "            {\n",
    "                \"Effect\": \"Allow\",\n",
    "                \"Action\": [\n",
    "                    \"bedrock:InvokeModel\",\n",
    "                ],\n",
    "                \"Resource\": [\n",
    "                    f\"arn:aws:bedrock:{region_name}::foundation-model/amazon.titan-embed-text-v1\"\n",
    "                ]\n",
    "            }\n",
    "        ]\n",
    "    }\n",
    "\n",
    "    s3_policy_document = {\n",
    "        \"Version\": \"2012-10-17\",\n",
    "        \"Statement\": [\n",
    "            {\n",
    "                \"Effect\": \"Allow\",\n",
    "                \"Action\": [\n",
    "                    \"s3:GetObject\",\n",
    "                    \"s3:ListBucket\"\n",
    "                ],\n",
    "                \"Resource\": [\n",
    "                    f\"arn:aws:s3:::{bucket_name}\",\n",
    "                    f\"arn:aws:s3:::{bucket_name}/*\"\n",
    "                ],\n",
    "                \"Condition\": {\n",
    "                    \"StringEquals\": {\n",
    "                        \"aws:ResourceAccount\": f\"{account_number}\"\n",
    "                    }\n",
    "                }\n",
    "            }\n",
    "        ]\n",
    "    }\n",
    "\n",
    "    assume_role_policy_document = {\n",
    "        \"Version\": \"2012-10-17\",\n",
    "        \"Statement\": [\n",
    "            {\n",
    "                \"Effect\": \"Allow\",\n",
    "                \"Principal\": {\n",
    "                    \"Service\": \"bedrock.amazonaws.com\"\n",
    "                },\n",
    "                \"Action\": \"sts:AssumeRole\"\n",
    "            }\n",
    "        ]\n",
    "    }\n",
    "    # create policies based on the policy documents\n",
    "    fm_policy = iam_client.create_policy(\n",
    "        PolicyName=fm_policy_name,\n",
    "        PolicyDocument=json.dumps(foundation_model_policy_document),\n",
    "        Description='Policy for accessing foundation model',\n",
    "    )\n",
    "\n",
    "    s3_policy = iam_client.create_policy(\n",
    "        PolicyName=s3_policy_name,\n",
    "        PolicyDocument=json.dumps(s3_policy_document),\n",
    "        Description='Policy for reading documents from s3')\n",
    "\n",
    "    # create bedrock execution role\n",
    "    bedrock_kb_execution_role = iam_client.create_role(\n",
    "        RoleName=bedrock_execution_role_name,\n",
    "        AssumeRolePolicyDocument=json.dumps(assume_role_policy_document),\n",
    "        Description='Amazon Bedrock Knowledge Base Execution Role for accessing OSS and S3',\n",
    "        MaxSessionDuration=3600\n",
    "    )\n",
    "\n",
    "    # fetch arn of the policies and role created above\n",
    "    bedrock_kb_execution_role_arn = bedrock_kb_execution_role['Role']['Arn']\n",
    "    s3_policy_arn = s3_policy[\"Policy\"][\"Arn\"]\n",
    "    fm_policy_arn = fm_policy[\"Policy\"][\"Arn\"]\n",
    "\n",
    "    # attach policies to Amazon Bedrock execution role\n",
    "    iam_client.attach_role_policy(\n",
    "        RoleName=bedrock_kb_execution_role[\"Role\"][\"RoleName\"],\n",
    "        PolicyArn=fm_policy_arn\n",
    "    )\n",
    "    iam_client.attach_role_policy(\n",
    "        RoleName=bedrock_kb_execution_role[\"Role\"][\"RoleName\"],\n",
    "        PolicyArn=s3_policy_arn\n",
    "    )\n",
    "    return bedrock_kb_execution_role\n",
    "\n",
    "\n",
    "def create_oss_policy_attach_bedrock_execution_role(collection_id, bedrock_kb_execution_role):\n",
    "    # define oss policy document\n",
    "    oss_policy_document = {\n",
    "        \"Version\": \"2012-10-17\",\n",
    "        \"Statement\": [\n",
    "            {\n",
    "                \"Effect\": \"Allow\",\n",
    "                \"Action\": [\n",
    "                    \"aoss:APIAccessAll\"\n",
    "                ],\n",
    "                \"Resource\": [\n",
    "                    f\"arn:aws:aoss:{region_name}:{account_number}:collection/{collection_id}\"\n",
    "                ]\n",
    "            }\n",
    "        ]\n",
    "    }\n",
    "    oss_policy = iam_client.create_policy(\n",
    "        PolicyName=oss_policy_name,\n",
    "        PolicyDocument=json.dumps(oss_policy_document),\n",
    "        Description='Policy for accessing opensearch serverless',\n",
    "    )\n",
    "    oss_policy_arn = oss_policy[\"Policy\"][\"Arn\"]\n",
    "    print(\"Opensearch serverless arn: \", oss_policy_arn)\n",
    "\n",
    "    iam_client.attach_role_policy(\n",
    "        RoleName=bedrock_kb_execution_role[\"Role\"][\"RoleName\"],\n",
    "        PolicyArn=oss_policy_arn\n",
    "    )\n",
    "    return None\n",
    "\n",
    "\n",
    "def create_policies_in_oss(vector_store_name, aoss_client, bedrock_kb_execution_role_arn):\n",
    "    encryption_policy = aoss_client.create_security_policy(\n",
    "        name=encryption_policy_name,\n",
    "        policy=json.dumps(\n",
    "            {\n",
    "                'Rules': [{'Resource': ['collection/' + vector_store_name],\n",
    "                           'ResourceType': 'collection'}],\n",
    "                'AWSOwnedKey': True\n",
    "            }),\n",
    "        type='encryption'\n",
    "    )\n",
    "\n",
    "    network_policy = aoss_client.create_security_policy(\n",
    "        name=network_policy_name,\n",
    "        policy=json.dumps(\n",
    "            [\n",
    "                {'Rules': [{'Resource': ['collection/' + vector_store_name],\n",
    "                            'ResourceType': 'collection'}],\n",
    "                 'AllowFromPublic': True}\n",
    "            ]),\n",
    "        type='network'\n",
    "    )\n",
    "    access_policy = aoss_client.create_access_policy(\n",
    "        name=access_policy_name,\n",
    "        policy=json.dumps(\n",
    "            [\n",
    "                {\n",
    "                    'Rules': [\n",
    "                        {\n",
    "                            'Resource': ['collection/' + vector_store_name],\n",
    "                            'Permission': [\n",
    "                                'aoss:CreateCollectionItems',\n",
    "                                'aoss:DeleteCollectionItems',\n",
    "                                'aoss:UpdateCollectionItems',\n",
    "                                'aoss:DescribeCollectionItems'],\n",
    "                            'ResourceType': 'collection'\n",
    "                        },\n",
    "                        {\n",
    "                            'Resource': ['index/' + vector_store_name + '/*'],\n",
    "                            'Permission': [\n",
    "                                'aoss:CreateIndex',\n",
    "                                'aoss:DeleteIndex',\n",
    "                                'aoss:UpdateIndex',\n",
    "                                'aoss:DescribeIndex',\n",
    "                                'aoss:ReadDocument',\n",
    "                                'aoss:WriteDocument'],\n",
    "                            'ResourceType': 'index'\n",
    "                        }],\n",
    "                    'Principal': [identity, bedrock_kb_execution_role_arn],\n",
    "                    'Description': 'Easy data policy'}\n",
    "            ]),\n",
    "        type='data'\n",
    "    )\n",
    "    return encryption_policy, network_policy, access_policy\n",
    "\n",
    "\n",
    "def delete_iam_role_and_policies():\n",
    "    fm_policy_arn = f\"arn:aws:iam::{account_number}:policy/{fm_policy_name}\"\n",
    "    s3_policy_arn = f\"arn:aws:iam::{account_number}:policy/{s3_policy_name}\"\n",
    "    oss_policy_arn = f\"arn:aws:iam::{account_number}:policy/{oss_policy_name}\"\n",
    "    iam_client.detach_role_policy(\n",
    "        RoleName=bedrock_execution_role_name,\n",
    "        PolicyArn=s3_policy_arn\n",
    "    )\n",
    "    iam_client.detach_role_policy(\n",
    "        RoleName=bedrock_execution_role_name,\n",
    "        PolicyArn=fm_policy_arn\n",
    "    )\n",
    "    iam_client.detach_role_policy(\n",
    "        RoleName=bedrock_execution_role_name,\n",
    "        PolicyArn=oss_policy_arn\n",
    "    )\n",
    "    iam_client.delete_role(RoleName=bedrock_execution_role_name)\n",
    "    iam_client.delete_policy(PolicyArn=s3_policy_arn)\n",
    "    iam_client.delete_policy(PolicyArn=fm_policy_arn)\n",
    "    iam_client.delete_policy(PolicyArn=oss_policy_arn)\n",
    "    return 0\n",
    "\n",
    "\n",
    "def interactive_sleep(seconds: int):\n",
    "    dots = ''\n",
    "    for i in range(seconds):\n",
    "        dots += '.'\n",
    "        print(dots, end='\\r')\n",
    "        time.sleep(1)\n",
    "    # print('Done!')"
   ]
  },
  {
   "cell_type": "code",
   "execution_count": 2,
   "id": "1015a63e",
   "metadata": {},
   "outputs": [],
   "source": [
    "import json\n",
    "import os\n",
    "import boto3\n",
    "from botocore.exceptions import ClientError\n",
    "import pprint\n",
    "#from utils.utility import create_bedrock_execution_role, create_oss_policy_attach_bedrock_execution_role, create_policies_in_oss, interactive_sleep\n",
    "import random\n",
    "from retrying import retry"
   ]
  },
  {
   "cell_type": "code",
   "execution_count": 4,
   "id": "35162375",
   "metadata": {},
   "outputs": [],
   "source": [
    "suffix = random.randrange(200, 900)\n",
    "\n",
    "sts_client = boto3.client('sts')\n",
    "boto3_session = boto3.session.Session()\n",
    "region_name = boto3_session.region_name\n",
    "bedrock_agent_client = boto3_session.client('bedrock-agent', region_name=region_name)\n",
    "service = 'aoss'\n",
    "s3_client = boto3.client('s3')\n",
    "account_id = sts_client.get_caller_identity()[\"Account\"]\n",
    "identifier= \"new_chunk\"\n",
    "s3_suffix = f\"{region_name}-{account_id}-{identifier}\"\n",
    "bucket_name = f'bedrock-kb-{s3_suffix}' # replace it with your bucket name.\n",
    "pp = pprint.PrettyPrinter(indent=2)"
   ]
  },
  {
   "cell_type": "code",
   "execution_count": 5,
   "id": "39a25b1e",
   "metadata": {},
   "outputs": [
    {
     "name": "stdout",
     "output_type": "stream",
     "text": [
      "Creating bucket bedrock-kb-us-west-2-734389953405\n"
     ]
    }
   ],
   "source": [
    "# Check if bucket exists, and if not create S3 bucket for knowledge base data source\n",
    "try:\n",
    "    s3_client.head_bucket(Bucket=bucket_name)\n",
    "    print(f'Bucket {bucket_name} Exists')\n",
    "except ClientError as e:\n",
    "    print(f'Creating bucket {bucket_name}')\n",
    "    s3bucket = s3_client.create_bucket(\n",
    "        Bucket=bucket_name,\n",
    "        CreateBucketConfiguration={ 'LocationConstraint': region_name }\n",
    "    )"
   ]
  },
  {
   "cell_type": "code",
   "execution_count": 6,
   "id": "765ab416",
   "metadata": {},
   "outputs": [],
   "source": [
    "import boto3\n",
    "import time\n",
    "vector_store_name = f'bedrock-sample-rag-{suffix}'\n",
    "index_name = f\"bedrock-sample-rag-index-{suffix}\"\n",
    "aoss_client = boto3_session.client('opensearchserverless')\n",
    "bedrock_kb_execution_role = create_bedrock_execution_role(bucket_name=bucket_name)\n",
    "bedrock_kb_execution_role_arn = bedrock_kb_execution_role['Role']['Arn']"
   ]
  },
  {
   "cell_type": "code",
   "execution_count": 7,
   "id": "73307850",
   "metadata": {},
   "outputs": [],
   "source": [
    "# create security, network and data access policies within OSS\n",
    "encryption_policy, network_policy, access_policy = create_policies_in_oss(vector_store_name=vector_store_name,\n",
    "                       aoss_client=aoss_client,\n",
    "                       bedrock_kb_execution_role_arn=bedrock_kb_execution_role_arn)\n",
    "collection = aoss_client.create_collection(name=vector_store_name,type='VECTORSEARCH')"
   ]
  },
  {
   "cell_type": "code",
   "execution_count": 8,
   "id": "661c40b7",
   "metadata": {},
   "outputs": [
    {
     "name": "stdout",
     "output_type": "stream",
     "text": [
      "{ 'ResponseMetadata': { 'HTTPHeaders': { 'connection': 'keep-alive',\n",
      "                                         'content-length': '314',\n",
      "                                         'content-type': 'application/x-amz-json-1.0',\n",
      "                                         'date': 'Wed, 05 Jun 2024 09:37:16 '\n",
      "                                                 'GMT',\n",
      "                                         'x-amzn-requestid': 'eaa243c5-1242-40ab-a953-77a0d460be4d'},\n",
      "                        'HTTPStatusCode': 200,\n",
      "                        'RequestId': 'eaa243c5-1242-40ab-a953-77a0d460be4d',\n",
      "                        'RetryAttempts': 0},\n",
      "  'createCollectionDetail': { 'arn': 'arn:aws:aoss:us-west-2:734389953405:collection/qd75qkwby8mzb7wbocoh',\n",
      "                              'createdDate': 1717580235597,\n",
      "                              'id': 'qd75qkwby8mzb7wbocoh',\n",
      "                              'kmsKeyArn': 'auto',\n",
      "                              'lastModifiedDate': 1717580235597,\n",
      "                              'name': 'bedrock-sample-rag-697',\n",
      "                              'standbyReplicas': 'ENABLED',\n",
      "                              'status': 'CREATING',\n",
      "                              'type': 'VECTORSEARCH'}}\n"
     ]
    }
   ],
   "source": [
    "pp.pprint(collection)"
   ]
  },
  {
   "cell_type": "code",
   "execution_count": 9,
   "id": "45081e2e",
   "metadata": {},
   "outputs": [
    {
     "name": "stdout",
     "output_type": "stream",
     "text": [
      "qd75qkwby8mzb7wbocoh.us-west-2.aoss.amazonaws.com\n"
     ]
    }
   ],
   "source": [
    "collection_id = collection['createCollectionDetail']['id']\n",
    "host = collection_id + '.' + region_name + '.aoss.amazonaws.com'\n",
    "print(host)"
   ]
  },
  {
   "cell_type": "code",
   "execution_count": 10,
   "id": "baa1c6a8",
   "metadata": {},
   "outputs": [
    {
     "name": "stdout",
     "output_type": "stream",
     "text": [
      "Creating collection...\n",
      "Creating collection...........\n",
      "Creating collection...........\n",
      "Creating collection...........\n",
      "Creating collection...........\n",
      "Creating collection...........\n",
      "Creating collection...........\n",
      "Creating collection...........\n",
      "Creating collection...........\n",
      "Creating collection...........\n",
      "Creating collection...........\n",
      "Creating collection...........\n",
      "Creating collection...........\n",
      "..............................\n",
      "Collection successfully created:\n",
      "[ { 'arn': 'arn:aws:aoss:us-west-2:734389953405:collection/qd75qkwby8mzb7wbocoh',\n",
      "    'collectionEndpoint': 'https://qd75qkwby8mzb7wbocoh.us-west-2.aoss.amazonaws.com',\n",
      "    'createdDate': 1717580235597,\n",
      "    'dashboardEndpoint': 'https://qd75qkwby8mzb7wbocoh.us-west-2.aoss.amazonaws.com/_dashboards',\n",
      "    'id': 'qd75qkwby8mzb7wbocoh',\n",
      "    'kmsKeyArn': 'auto',\n",
      "    'lastModifiedDate': 1717580623662,\n",
      "    'name': 'bedrock-sample-rag-697',\n",
      "    'standbyReplicas': 'ENABLED',\n",
      "    'status': 'ACTIVE',\n",
      "    'type': 'VECTORSEARCH'}]\n"
     ]
    }
   ],
   "source": [
    "response = aoss_client.batch_get_collection(names=[vector_store_name])\n",
    "# Periodically check collection status\n",
    "while (response['collectionDetails'][0]['status']) == 'CREATING':\n",
    "    print('Creating collection...')\n",
    "    interactive_sleep(30)\n",
    "    response = aoss_client.batch_get_collection(names=[vector_store_name])\n",
    "print('\\nCollection successfully created:')\n",
    "pp.pprint(response[\"collectionDetails\"])"
   ]
  },
  {
   "cell_type": "code",
   "execution_count": 11,
   "id": "695bd617",
   "metadata": {},
   "outputs": [
    {
     "name": "stdout",
     "output_type": "stream",
     "text": [
      "Opensearch serverless arn:  arn:aws:iam::734389953405:policy/AmazonBedrockOSSPolicyForKnowledgeBase_795\n",
      "............................................................\r"
     ]
    }
   ],
   "source": [
    "try:\n",
    "    create_oss_policy_attach_bedrock_execution_role(collection_id=collection_id,\n",
    "                                                    bedrock_kb_execution_role=bedrock_kb_execution_role)\n",
    "    # It can take up to a minute for data access rules to be enforced\n",
    "    interactive_sleep(60)\n",
    "except Exception as e:\n",
    "    print(\"Policy already exists\")\n",
    "    pp.pprint(e)"
   ]
  },
  {
   "cell_type": "markdown",
   "id": "338eb9f1",
   "metadata": {},
   "source": [
    "# for fixed size chunking"
   ]
  },
  {
   "cell_type": "code",
   "execution_count": 12,
   "id": "88a9b542",
   "metadata": {},
   "outputs": [],
   "source": [
    "# Create the vector index in Opensearch serverless, with the knn_vector field index mapping, specifying the dimension size, name and engine.\n",
    "from opensearchpy import OpenSearch, RequestsHttpConnection, AWSV4SignerAuth, RequestError\n",
    "credentials = boto3.Session().get_credentials()\n",
    "awsauth = auth = AWSV4SignerAuth(credentials, region_name, service)\n",
    "\n",
    "index_name = f\"bedrock-sample-index-{suffix}\"\n",
    "body_json = {\n",
    "   \"settings\": {\n",
    "      \"index.knn\": \"true\",\n",
    "       \"number_of_shards\": 1,\n",
    "       \"knn.algo_param.ef_search\": 512,\n",
    "       \"number_of_replicas\": 0,\n",
    "   },\n",
    "   \"mappings\": {\n",
    "      \"properties\": {\n",
    "         \"vector\": {\n",
    "            \"type\": \"knn_vector\",\n",
    "            \"dimension\": 1536,\n",
    "             \"method\": {\n",
    "                 \"name\": \"hnsw\",\n",
    "                 \"engine\": \"faiss\",\n",
    "                 \"space_type\": \"l2\"\n",
    "             },\n",
    "         },\n",
    "         \"text\": {\n",
    "            \"type\": \"text\"\n",
    "         },\n",
    "         \"text-metadata\": {\n",
    "            \"type\": \"text\"         }\n",
    "      }\n",
    "   }\n",
    "}\n",
    "\n",
    "# Build the OpenSearch client\n",
    "oss_client = OpenSearch(\n",
    "    hosts=[{'host': host, 'port': 443}],\n",
    "    http_auth=awsauth,\n",
    "    use_ssl=True,\n",
    "    verify_certs=True,\n",
    "    connection_class=RequestsHttpConnection,\n",
    "    timeout=300\n",
    ")"
   ]
  },
  {
   "cell_type": "code",
   "execution_count": 13,
   "id": "d5dfb4a7",
   "metadata": {},
   "outputs": [
    {
     "name": "stdout",
     "output_type": "stream",
     "text": [
      "\n",
      "Creating index:\n",
      "{ 'acknowledged': True,\n",
      "  'index': 'bedrock-sample-index-697',\n",
      "  'shards_acknowledged': True}\n",
      "............................................................\r"
     ]
    }
   ],
   "source": [
    "try:\n",
    "    response = oss_client.indices.create(index=index_name, body=json.dumps(body_json))\n",
    "    print('\\nCreating index:')\n",
    "    pp.pprint(response)\n",
    "\n",
    "    # index creation can take up to a minute\n",
    "    interactive_sleep(60)\n",
    "except RequestError as e:\n",
    "    # you can delete the index if its already exists\n",
    "    # oss_client.indices.delete(index=index_name)\n",
    "    print(f'Error while trying to create the index, with error {e.error}\\nyou may unmark the delete above to delete, and recreate the index')\n",
    "    \n"
   ]
  },
  {
   "cell_type": "code",
   "execution_count": 14,
   "id": "93481526",
   "metadata": {},
   "outputs": [],
   "source": [
    "opensearchServerlessConfiguration = {\n",
    "            \"collectionArn\": collection[\"createCollectionDetail\"]['arn'],\n",
    "            \"vectorIndexName\": index_name,\n",
    "            \"fieldMapping\": {\n",
    "                \"vectorField\": \"vector\",\n",
    "                \"textField\": \"text\",\n",
    "                \"metadataField\": \"text-metadata\"\n",
    "            }\n",
    "        }\n",
    "\n",
    "# Ingest strategy - How to ingest data from the data source\n",
    "chunkingStrategyConfiguration = {\n",
    "    \"chunkingStrategy\": \"FIXED_SIZE\",\n",
    "    \"fixedSizeChunkingConfiguration\": {\n",
    "        \"maxTokens\": 512,\n",
    "        \"overlapPercentage\": 20\n",
    "    }\n",
    "}\n",
    "\n",
    "# The data source to ingest documents from, into the OpenSearch serverless knowledge base index\n",
    "s3Configuration = {\n",
    "    \"bucketArn\": f\"arn:aws:s3:::{bucket_name}\",\n",
    "    # \"inclusionPrefixes\":[\"*.*\"] # you can use this if you want to create a KB using data within s3 prefixes.\n",
    "}\n",
    "\n",
    "# The embedding model used by Bedrock to embed ingested documents, and realtime prompts\n",
    "embeddingModelArn = f\"arn:aws:bedrock:{region_name}::foundation-model/amazon.titan-embed-text-v1\"\n",
    "\n",
    "name = f\"bedrock-sample-knowledge-base-{suffix}\"\n",
    "description = \"Amazon Q documentation\"\n",
    "roleArn = bedrock_kb_execution_role_arn"
   ]
  },
  {
   "cell_type": "code",
   "execution_count": 15,
   "id": "40bc1aa0",
   "metadata": {},
   "outputs": [],
   "source": [
    "# Create a KnowledgeBase\n",
    "from retrying import retry\n",
    "\n",
    "@retry(wait_random_min=1000, wait_random_max=2000,stop_max_attempt_number=7)\n",
    "def create_knowledge_base_func():\n",
    "    create_kb_response = bedrock_agent_client.create_knowledge_base(\n",
    "        name = name,\n",
    "        description = description,\n",
    "        roleArn = roleArn,\n",
    "        knowledgeBaseConfiguration = {\n",
    "            \"type\": \"VECTOR\",\n",
    "            \"vectorKnowledgeBaseConfiguration\": {\n",
    "                \"embeddingModelArn\": embeddingModelArn\n",
    "            }\n",
    "        },\n",
    "        storageConfiguration = {\n",
    "            \"type\": \"OPENSEARCH_SERVERLESS\",\n",
    "            \"opensearchServerlessConfiguration\":opensearchServerlessConfiguration\n",
    "        }\n",
    "    )\n",
    "    return create_kb_response[\"knowledgeBase\"]"
   ]
  },
  {
   "cell_type": "code",
   "execution_count": 16,
   "id": "f37326a0",
   "metadata": {},
   "outputs": [],
   "source": [
    "try:\n",
    "    kb = create_knowledge_base_func()\n",
    "except Exception as err:\n",
    "    print(f\"{err=}, {type(err)=}\")"
   ]
  },
  {
   "cell_type": "code",
   "execution_count": 17,
   "id": "1560d19a",
   "metadata": {},
   "outputs": [
    {
     "name": "stdout",
     "output_type": "stream",
     "text": [
      "{ 'createdAt': datetime.datetime(2024, 6, 5, 9, 45, 56, 373735, tzinfo=tzlocal()),\n",
      "  'description': 'Amazon Q documentation',\n",
      "  'knowledgeBaseArn': 'arn:aws:bedrock:us-west-2:734389953405:knowledge-base/8SYD79ZBQV',\n",
      "  'knowledgeBaseConfiguration': { 'type': 'VECTOR',\n",
      "                                  'vectorKnowledgeBaseConfiguration': { 'embeddingModelArn': 'arn:aws:bedrock:us-west-2::foundation-model/amazon.titan-embed-text-v1'}},\n",
      "  'knowledgeBaseId': '8SYD79ZBQV',\n",
      "  'name': 'bedrock-sample-knowledge-base-697',\n",
      "  'roleArn': 'arn:aws:iam::734389953405:role/AmazonBedrockExecutionRoleForKnowledgeBase_795',\n",
      "  'status': 'CREATING',\n",
      "  'storageConfiguration': { 'opensearchServerlessConfiguration': { 'collectionArn': 'arn:aws:aoss:us-west-2:734389953405:collection/qd75qkwby8mzb7wbocoh',\n",
      "                                                                   'fieldMapping': { 'metadataField': 'text-metadata',\n",
      "                                                                                     'textField': 'text',\n",
      "                                                                                     'vectorField': 'vector'},\n",
      "                                                                   'vectorIndexName': 'bedrock-sample-index-697'},\n",
      "                            'type': 'OPENSEARCH_SERVERLESS'},\n",
      "  'updatedAt': datetime.datetime(2024, 6, 5, 9, 45, 56, 373735, tzinfo=tzlocal())}\n"
     ]
    }
   ],
   "source": [
    "pp.pprint(kb)"
   ]
  },
  {
   "cell_type": "code",
   "execution_count": 18,
   "id": "ccdf1859",
   "metadata": {},
   "outputs": [],
   "source": [
    "get_kb_response = bedrock_agent_client.get_knowledge_base(knowledgeBaseId = kb['knowledgeBaseId'])"
   ]
  },
  {
   "cell_type": "code",
   "execution_count": 19,
   "id": "c4d62da3",
   "metadata": {},
   "outputs": [
    {
     "name": "stdout",
     "output_type": "stream",
     "text": [
      "{ 'createdAt': datetime.datetime(2024, 6, 5, 9, 45, 57, 4514, tzinfo=tzlocal()),\n",
      "  'dataSourceConfiguration': { 's3Configuration': { 'bucketArn': 'arn:aws:s3:::bedrock-kb-us-west-2-734389953405'},\n",
      "                               'type': 'S3'},\n",
      "  'dataSourceId': 'UNNDUF4NNU',\n",
      "  'description': 'Amazon Q documentation',\n",
      "  'knowledgeBaseId': '8SYD79ZBQV',\n",
      "  'name': 'bedrock-sample-knowledge-base-697',\n",
      "  'status': 'AVAILABLE',\n",
      "  'updatedAt': datetime.datetime(2024, 6, 5, 9, 45, 57, 4514, tzinfo=tzlocal()),\n",
      "  'vectorIngestionConfiguration': { 'chunkingConfiguration': { 'chunkingStrategy': 'FIXED_SIZE',\n",
      "                                                               'fixedSizeChunkingConfiguration': { 'maxTokens': 512,\n",
      "                                                                                                   'overlapPercentage': 20}}}}\n"
     ]
    }
   ],
   "source": [
    "# Create a DataSource in KnowledgeBase \n",
    "create_ds_response = bedrock_agent_client.create_data_source(\n",
    "    name = name,\n",
    "    description = description,\n",
    "    knowledgeBaseId = kb['knowledgeBaseId'],\n",
    "    dataSourceConfiguration = {\n",
    "        \"type\": \"S3\",\n",
    "        \"s3Configuration\":s3Configuration\n",
    "    },\n",
    "    vectorIngestionConfiguration = {\n",
    "        \"chunkingConfiguration\": chunkingStrategyConfiguration\n",
    "    }\n",
    ")\n",
    "ds = create_ds_response[\"dataSource\"]\n",
    "pp.pprint(ds)"
   ]
  },
  {
   "cell_type": "code",
   "execution_count": 20,
   "id": "9ec5afb9",
   "metadata": {},
   "outputs": [
    {
     "data": {
      "text/plain": [
       "{'ResponseMetadata': {'RequestId': 'ec3faa63-a1cd-4f4d-8663-216a82a9248a',\n",
       "  'HTTPStatusCode': 200,\n",
       "  'HTTPHeaders': {'date': 'Wed, 05 Jun 2024 09:45:57 GMT',\n",
       "   'content-type': 'application/json',\n",
       "   'content-length': '584',\n",
       "   'connection': 'keep-alive',\n",
       "   'x-amzn-requestid': 'ec3faa63-a1cd-4f4d-8663-216a82a9248a',\n",
       "   'x-amz-apigw-id': 'Y40JVEQavHcEcxQ=',\n",
       "   'x-amzn-trace-id': 'Root=1-666033d5-61370d095e9e56763de76e5e'},\n",
       "  'RetryAttempts': 0},\n",
       " 'dataSource': {'knowledgeBaseId': '8SYD79ZBQV',\n",
       "  'dataSourceId': 'UNNDUF4NNU',\n",
       "  'name': 'bedrock-sample-knowledge-base-697',\n",
       "  'status': 'AVAILABLE',\n",
       "  'description': 'Amazon Q documentation',\n",
       "  'dataSourceConfiguration': {'type': 'S3',\n",
       "   's3Configuration': {'bucketArn': 'arn:aws:s3:::bedrock-kb-us-west-2-734389953405'}},\n",
       "  'vectorIngestionConfiguration': {'chunkingConfiguration': {'chunkingStrategy': 'FIXED_SIZE',\n",
       "    'fixedSizeChunkingConfiguration': {'maxTokens': 512,\n",
       "     'overlapPercentage': 20}}},\n",
       "  'createdAt': datetime.datetime(2024, 6, 5, 9, 45, 57, 4514, tzinfo=tzlocal()),\n",
       "  'updatedAt': datetime.datetime(2024, 6, 5, 9, 45, 57, 4514, tzinfo=tzlocal())}}"
      ]
     },
     "execution_count": 20,
     "metadata": {},
     "output_type": "execute_result"
    }
   ],
   "source": [
    "bedrock_agent_client.get_data_source(knowledgeBaseId = kb['knowledgeBaseId'], dataSourceId = ds[\"dataSourceId\"])"
   ]
  },
  {
   "cell_type": "code",
   "execution_count": 22,
   "id": "99417e4b",
   "metadata": {},
   "outputs": [],
   "source": [
    "# Start an ingestion job\n",
    "start_job_response = bedrock_agent_client.start_ingestion_job(knowledgeBaseId = kb['knowledgeBaseId'], dataSourceId = ds[\"dataSourceId\"])"
   ]
  },
  {
   "cell_type": "code",
   "execution_count": 23,
   "id": "236402ff",
   "metadata": {},
   "outputs": [
    {
     "name": "stdout",
     "output_type": "stream",
     "text": [
      "{ 'dataSourceId': 'UNNDUF4NNU',\n",
      "  'ingestionJobId': 'OUEFAKGSIX',\n",
      "  'knowledgeBaseId': '8SYD79ZBQV',\n",
      "  'startedAt': datetime.datetime(2024, 6, 5, 9, 46, 44, 167238, tzinfo=tzlocal()),\n",
      "  'statistics': { 'numberOfDocumentsDeleted': 0,\n",
      "                  'numberOfDocumentsFailed': 0,\n",
      "                  'numberOfDocumentsScanned': 0,\n",
      "                  'numberOfModifiedDocumentsIndexed': 0,\n",
      "                  'numberOfNewDocumentsIndexed': 0},\n",
      "  'status': 'STARTING',\n",
      "  'updatedAt': datetime.datetime(2024, 6, 5, 9, 46, 44, 167238, tzinfo=tzlocal())}\n"
     ]
    }
   ],
   "source": [
    "job = start_job_response[\"ingestionJob\"]\n",
    "pp.pprint(job)"
   ]
  },
  {
   "cell_type": "code",
   "execution_count": 24,
   "id": "8bdea911",
   "metadata": {},
   "outputs": [
    {
     "name": "stdout",
     "output_type": "stream",
     "text": [
      "{ 'dataSourceId': 'UNNDUF4NNU',\n",
      "  'ingestionJobId': 'OUEFAKGSIX',\n",
      "  'knowledgeBaseId': '8SYD79ZBQV',\n",
      "  'startedAt': datetime.datetime(2024, 6, 5, 9, 46, 44, 167238, tzinfo=tzlocal()),\n",
      "  'statistics': { 'numberOfDocumentsDeleted': 0,\n",
      "                  'numberOfDocumentsFailed': 0,\n",
      "                  'numberOfDocumentsScanned': 1,\n",
      "                  'numberOfModifiedDocumentsIndexed': 0,\n",
      "                  'numberOfNewDocumentsIndexed': 1},\n",
      "  'status': 'COMPLETE',\n",
      "  'updatedAt': datetime.datetime(2024, 6, 5, 9, 46, 49, 107853, tzinfo=tzlocal())}\n"
     ]
    }
   ],
   "source": [
    "# Get job \n",
    "while(job['status']!='COMPLETE' ):\n",
    "    get_job_response = bedrock_agent_client.get_ingestion_job(\n",
    "      knowledgeBaseId = kb['knowledgeBaseId'],\n",
    "        dataSourceId = ds[\"dataSourceId\"],\n",
    "        ingestionJobId = job[\"ingestionJobId\"]\n",
    "  )\n",
    "    job = get_job_response[\"ingestionJob\"]\n",
    "    \n",
    "    interactive_sleep(30)\n",
    "\n",
    "pp.pprint(job)"
   ]
  },
  {
   "cell_type": "code",
   "execution_count": 25,
   "id": "3294efcf",
   "metadata": {},
   "outputs": [
    {
     "name": "stdout",
     "output_type": "stream",
     "text": [
      "'8SYD79ZBQV'\n"
     ]
    }
   ],
   "source": [
    "kb_id_1 = kb[\"knowledgeBaseId\"]\n",
    "pp.pprint(kb_id)"
   ]
  },
  {
   "cell_type": "code",
   "execution_count": 26,
   "id": "85abbc8d",
   "metadata": {},
   "outputs": [
    {
     "name": "stdout",
     "output_type": "stream",
     "text": [
      "Stored 'kb_id' (str)\n"
     ]
    }
   ],
   "source": [
    "# keep the kb_id for invocation later in the invoke request\n",
    "%store kb_id"
   ]
  },
  {
   "cell_type": "code",
   "execution_count": 27,
   "id": "f110740a",
   "metadata": {},
   "outputs": [
    {
     "name": "stdout",
     "output_type": "stream",
     "text": [
      "us-west-2\n"
     ]
    }
   ],
   "source": [
    "import boto3\n",
    "import pprint\n",
    "from botocore.client import Config\n",
    "import json\n",
    "\n",
    "pp = pprint.PrettyPrinter(indent=2)\n",
    "session = boto3.session.Session()\n",
    "region = session.region_name\n",
    "bedrock_config = Config(connect_timeout=120, read_timeout=120, retries={'max_attempts': 0})\n",
    "bedrock_client = boto3.client('bedrock-runtime', region_name = region)\n",
    "bedrock_agent_client = boto3.client(\"bedrock-agent-runtime\",\n",
    "                              config=bedrock_config, region_name = region)\n",
    "print(region)"
   ]
  },
  {
   "cell_type": "code",
   "execution_count": 28,
   "id": "3656cc8e",
   "metadata": {},
   "outputs": [],
   "source": [
    "def retrieve(query, kbId, numberOfResults):\n",
    "    return bedrock_agent_client.retrieve(\n",
    "        retrievalQuery= {\n",
    "            'text': query\n",
    "        },\n",
    "        knowledgeBaseId=kbId,\n",
    "        retrievalConfiguration= {\n",
    "            'vectorSearchConfiguration': {\n",
    "                'numberOfResults': numberOfResults\n",
    "            }\n",
    "        }\n",
    "    )\n"
   ]
  },
  {
   "cell_type": "code",
   "execution_count": 42,
   "id": "b5ec415e",
   "metadata": {},
   "outputs": [],
   "source": [
    "def retrieve_information(query, num_results):\n",
    "    response = retrieve(query, kb_id, num_results)\n",
    "    retrievalResults = response['retrievalResults']\n",
    "    pp = pprint.PrettyPrinter(indent=2)\n",
    "    return retrievalResults"
   ]
  },
  {
   "cell_type": "code",
   "execution_count": 43,
   "id": "21c1aab9",
   "metadata": {},
   "outputs": [],
   "source": [
    "query = \"What are the key features of amazon q developer?\"\n",
    "retrievalResults=retrieve_information(query,2)"
   ]
  },
  {
   "cell_type": "code",
   "execution_count": 44,
   "id": "2e179da3",
   "metadata": {},
   "outputs": [],
   "source": [
    "def get_contexts(retrievalResults):\n",
    "    contexts = []\n",
    "    for retrievedResult in retrievalResults: \n",
    "        contexts.append(retrievedResult['content']['text'])\n",
    "    return contexts"
   ]
  },
  {
   "cell_type": "code",
   "execution_count": 45,
   "id": "28577a97",
   "metadata": {},
   "outputs": [
    {
     "name": "stdout",
     "output_type": "stream",
     "text": [
      "['Amazon Q Developer User Guide What is Amazon Q Developer? Note Powered by '\n",
      " 'Amazon Bedrock: AWS implements automated abuse detection. Because Amazon Q '\n",
      " 'Developer is built on Amazon Bedrock, users can take full advantage of the '\n",
      " 'controls implemented in Amazon Bedrock to enforce safety, security, and the '\n",
      " 'responsible use of artificial intelligence (AI). Amazon Q Developer is a '\n",
      " 'generative artificial intelligence (AI) powered conversational assistant '\n",
      " 'that can help you understand, build, extend, and operate AWS applications. '\n",
      " 'You can ask questions about AWS architecture, your AWS resources, best '\n",
      " 'practices, documentation, support, and more. Amazon Q is constantly updating '\n",
      " 'its capabilities so your questions get the most contextually relevant and '\n",
      " 'actionable answers. When used in an integrated development environment '\n",
      " '(IDE), Amazon Q provides software development assistance. Amazon Q can chat '\n",
      " 'about code, provide inline code completions, generate net new code, scan '\n",
      " 'your code for security vulnerabilities, and make code upgrades and '\n",
      " 'improvements, such as language updates, debugging, and optimizations. Amazon '\n",
      " 'Q is powered by Amazon Bedrock, a fully managed service that makes '\n",
      " 'foundation models (FMs) available through an API. The model that powers '\n",
      " 'Amazon Q has been augmented with high quality AWS content to get you more '\n",
      " 'complete, actionable, and referenced answers to accelerate your building on '\n",
      " 'AWS. Note This is the documentation for Amazon Q Developer. If you are '\n",
      " 'looking for documentation for Amazon Q Business, see the Amazon Q Business '\n",
      " 'User Guide. Key features of Amazon Q Developer Amazon Q Developer includes '\n",
      " 'the following capabilities: Chat - Amazon Q answers natural language '\n",
      " 'questions in English about AWS, including questions about AWS service '\n",
      " 'selection, AWS Command Line Interface (AWS CLI) usage, documentation, Key '\n",
      " 'features of Amazon Q 1 Amazon Q Developer User Guide best practices, and '\n",
      " 'your AWS resources. Amazon Q responds with information summaries or '\n",
      " 'step-by-step instructions, and includes links to its information sources. '\n",
      " 'Conversation memory - Amazon Q uses the context of your conversation to '\n",
      " 'inform future responses for the duration of your conversation. Code '\n",
      " 'improvements and advice - Within IDEs, Amazon Q can answer questions about '\n",
      " 'software development, improve your code, and generate new code. Code '\n",
      " 'completion - As you write code, Amazon Q automatically generates '\n",
      " 'suggestions, in real time, based on your existing code and comments. '\n",
      " 'Troubleshoot and support - Amazon Q can help you understand errors in the '\n",
      " 'AWS Management Console and provides access to live AWS Support agents to '\n",
      " 'address your AWS questions and issues.',\n",
      " 'Code improvements and advice - Within IDEs, Amazon Q can answer questions '\n",
      " 'about software development, improve your code, and generate new code. Code '\n",
      " 'completion - As you write code, Amazon Q automatically generates '\n",
      " 'suggestions, in real time, based on your existing code and comments. '\n",
      " 'Troubleshoot and support - Amazon Q can help you understand errors in the '\n",
      " 'AWS Management Console and provides access to live AWS Support agents to '\n",
      " 'address your AWS questions and issues. For more information about these and '\n",
      " 'other Amazon Q features, see Amazon Q Developer features. Get started with '\n",
      " 'Amazon Q Developer To quickly get started using Amazon Q, you can access it '\n",
      " 'in the following ways: AWS apps and websites Add the necessary permissions '\n",
      " 'to your IAM identity, and then choose the Amazon Q icon to start chatting in '\n",
      " 'the AWS Management Console, AWS Documentation website, AWS website, or AWS '\n",
      " 'Console Mobile Application. For more information, see Amazon Q Developer on '\n",
      " 'AWS apps and websites. IDEs Download the Amazon Q extension and use your AWS '\n",
      " 'Builder ID (no AWS account required) to sign in for free. Download Amazon Q '\n",
      " 'in Visual Studio Code Get started 2 Amazon Q Developer User Guide Get '\n",
      " 'answers in context to your conversation Amazon Q uses the context of your '\n",
      " 'current conversation to inform its responses. You can ask follow-up '\n",
      " 'questions or refer to its response when you ask a new question. Diagnose '\n",
      " 'common console errors With Amazon Q, you can diagnose console error messages '\n",
      " 'directly in the AWS Management Console. Amazon Q provides information about '\n",
      " 'the error and an overview of a potential solution. For more information, see '\n",
      " 'Diagnose common errors in the console with Amazon Q Developer. Develop '\n",
      " 'software After you explain, in natural language, the feature that you want '\n",
      " 'to develop, Amazon Q can use the context of your current project to generate '\n",
      " 'an implementation plan and the accompanying code. Amazon Q can help you '\n",
      " 'build AWS projects or your own applications. For more information, see '\n",
      " 'Develop software with the Amazon Q Developer Agent for software development. '\n",
      " 'Chat about code Within integrated development environments (IDEs), Amazon Q '\n",
      " 'can answer questions related to the software development process, including '\n",
      " 'conceptual questions about programming and how specific code works. You can '\n",
      " 'also ask Amazon Q to update and improve code snippets from the chat panel. '\n",
      " 'For more information, see Chat with Amazon Q Developer about code. Get '\n",
      " 'inline code suggestions Amazon Q provides you with code recommendations in '\n",
      " 'real time.']\n"
     ]
    }
   ],
   "source": [
    "contexts = get_contexts(retrievalResults)\n",
    "pp.pprint(contexts)"
   ]
  },
  {
   "cell_type": "markdown",
   "id": "843757aa",
   "metadata": {},
   "source": [
    "# chunking"
   ]
  },
  {
   "cell_type": "code",
   "execution_count": 68,
   "id": "1d25da38",
   "metadata": {},
   "outputs": [],
   "source": [
    "from langchain.text_splitter import RecursiveCharacterTextSplitter\n",
    "# Initialize S3 client\n",
    "s3_client = boto3.client('s3')\n",
    "\n",
    "# Define your S3 bucket and file names\n",
    "bucket_name = 'gen-ai-dummy'\n",
    "input_file_name = 'extracted_text.txt'\n",
    "output_prefix = 'chunks/'\n",
    "\n",
    "# Download the extracted text file from S3\n",
    "s3_client.download_file(bucket_name, input_file_name, '/tmp/extracted_text.txt')\n",
    "\n",
    "# Read the extracted text\n",
    "with open('/tmp/extracted_text.txt', 'r') as file:\n",
    "    extracted_text = file.read()\n",
    "\n",
    "# Initialize the text splitter with chunk size of 500 and overlap of 150\n",
    "text_splitter = RecursiveCharacterTextSplitter(\n",
    "    chunk_size=500,\n",
    "    chunk_overlap=150\n",
    ")\n",
    "\n",
    "# Split the text into chunks\n",
    "chunks = text_splitter.split_text(extracted_text)"
   ]
  },
  {
   "cell_type": "code",
   "execution_count": 69,
   "id": "bdfdf588",
   "metadata": {},
   "outputs": [
    {
     "data": {
      "text/plain": [
       "['Amazon Q Developer\\nUser Guide\\nWhat is Amazon Q Developer?\\nNote\\nPowered by Amazon Bedrock: AWS implements automated abuse detection. Because\\nAmazon Q Developer is built on Amazon Bedrock, users can take full advantage of the\\ncontrols implemented in Amazon Bedrock to enforce safety, security, and the responsible\\nuse of artificial intelligence (AI).\\nAmazon Q Developer is a generative artificial intelligence (AI) powered conversational assistant',\n",
       " 'use of artificial intelligence (AI).\\nAmazon Q Developer is a generative artificial intelligence (AI) powered conversational assistant\\nthat can help you understand, build, extend, and operate AWS applications. You can ask questions\\nabout AWS architecture, your AWS resources, best practices, documentation, support, and more.\\nAmazon Q is constantly updating its capabilities so your questions get the most contextually\\nrelevant and actionable answers.',\n",
       " 'Amazon Q is constantly updating its capabilities so your questions get the most contextually\\nrelevant and actionable answers.\\nWhen used in an integrated development environment (IDE), Amazon Q provides software\\ndevelopment assistance. Amazon Q can chat about code, provide inline code completions,\\ngenerate net new code, scan your code for security vulnerabilities, and make code upgrades and\\nimprovements, such as language updates, debugging, and optimizations.',\n",
       " 'improvements, such as language updates, debugging, and optimizations.\\nAmazon Q is powered by Amazon Bedrock, a fully managed service that makes foundation models\\n(FMs) available through an API. The model that powers Amazon Q has been augmented with high\\nquality AWS content to get you more complete, actionable, and referenced answers to accelerate\\nyour building on AWS.\\nNote\\nThis is the documentation for Amazon Q Developer. If you are looking for documentation',\n",
       " 'your building on AWS.\\nNote\\nThis is the documentation for Amazon Q Developer. If you are looking for documentation\\nfor Amazon Q Business, see the Amazon Q Business User Guide.\\nKey features of Amazon Q Developer\\nAmazon Q Developer includes the following capabilities:\\nChat - Amazon Q answers natural language questions in English about AWS, including questions\\nabout AWS service selection, AWS Command Line Interface (AWS CLI) usage, documentation,\\nKey features of Amazon Q\\n1\\nAmazon Q Developer',\n",
       " 'about AWS service selection, AWS Command Line Interface (AWS CLI) usage, documentation,\\nKey features of Amazon Q\\n1\\nAmazon Q Developer\\nUser Guide\\nbest practices, and your AWS resources. Amazon Q responds with information summaries or\\nstep-by-step instructions, and includes links to its information sources.\\nConversation memory - Amazon Q uses the context of your conversation to inform future\\nresponses for the duration of your conversation.',\n",
       " 'Conversation memory - Amazon Q uses the context of your conversation to inform future\\nresponses for the duration of your conversation.\\nCode improvements and advice - Within IDEs, Amazon Q can answer questions about software\\ndevelopment, improve your code, and generate new code.\\nCode completion - As you write code, Amazon Q automatically generates suggestions, in real\\ntime, based on your existing code and comments.',\n",
       " 'Code completion - As you write code, Amazon Q automatically generates suggestions, in real\\ntime, based on your existing code and comments.\\nTroubleshoot and support - Amazon Q can help you understand errors in the AWS Management\\nConsole and provides access to live AWS Support agents to address your AWS questions and\\nissues.\\nFor more information about these and other Amazon Q features, see Amazon Q Developer\\nfeatures.\\nGet started with Amazon Q Developer',\n",
       " 'issues.\\nFor more information about these and other Amazon Q features, see Amazon Q Developer\\nfeatures.\\nGet started with Amazon Q Developer\\nTo quickly get started using Amazon Q, you can access it in the following ways:\\nAWS apps and websites\\nAdd the necessary permissions to your IAM identity, and then choose the Amazon Q icon to\\nstart chatting in the AWS Management Console, AWS Documentation website, AWS website, or',\n",
       " 'start chatting in the AWS Management Console, AWS Documentation website, AWS website, or\\nAWS Console Mobile Application. For more information, see Amazon Q Developer on AWS apps\\nand websites.\\nIDEs\\nDownload the Amazon Q extension and use your AWS Builder ID (no AWS account required) to\\nsign in for free.\\nDownload Amazon Q in Visual Studio Code\\nGet started\\n2\\nAmazon Q Developer\\nUser Guide\\nGet answers in context to your conversation',\n",
       " 'sign in for free.\\nDownload Amazon Q in Visual Studio Code\\nGet started\\n2\\nAmazon Q Developer\\nUser Guide\\nGet answers in context to your conversation\\nAmazon Q uses the context of your current conversation to inform its responses. You can ask\\nfollow-up questions or refer to its response when you ask a new question.\\nDiagnose common console errors\\nWith Amazon Q, you can diagnose console error messages directly in the AWS Management',\n",
       " 'Diagnose common console errors\\nWith Amazon Q, you can diagnose console error messages directly in the AWS Management\\nConsole. Amazon Q provides information about the error and an overview of a potential solution.\\nFor more information, see Diagnose common errors in the console with Amazon Q Developer.\\nDevelop software\\nAfter you explain, in natural language, the feature that you want to develop, Amazon Q can use the',\n",
       " 'Develop software\\nAfter you explain, in natural language, the feature that you want to develop, Amazon Q can use the\\ncontext of your current project to generate an implementation plan and the accompanying code.\\nAmazon Q can help you build AWS projects or your own applications. For more information, see\\nDevelop software with the Amazon Q Developer Agent for software development.\\nChat about code\\nWithin integrated development environments (IDEs), Amazon Q can answer questions related to',\n",
       " 'Chat about code\\nWithin integrated development environments (IDEs), Amazon Q can answer questions related to\\nthe software development process, including conceptual questions about programming and how\\nspecific code works. You can also ask Amazon Q to update and improve code snippets from the\\nchat panel. For more information, see Chat with Amazon Q Developer about code.\\nGet inline code suggestions\\nAmazon Q provides you with code recommendations in real time. As you write code, Amazon',\n",
       " 'Get inline code suggestions\\nAmazon Q provides you with code recommendations in real time. As you write code, Amazon\\nQ automatically generates suggestions based on your existing code and comments. For more\\ninformation, see Get inline suggestions with Amazon Q.\\nTransform code\\nWithin IDEs, Amazon Q can update the language version of your code files. Currently, Amazon Q\\nCode Transformation supports updating Java 8 and Java 11 code to Java 17. For more information,',\n",
       " 'Code Transformation supports updating Java 8 and Java 11 code to Java 17. For more information,\\nsee Upgrade language versions with the Amazon Q Developer Agent for Code Transformation.\\nGet answers in context to your conversation\\n4\\nAmazon Q Developer\\nUser Guide\\nScan your code for security vulnerabilities\\nWithin IDEs, Amazon Q scans your code for security vulnerabilities and code quality issues. You can',\n",
       " 'Scan your code for security vulnerabilities\\nWithin IDEs, Amazon Q scans your code for security vulnerabilities and code quality issues. You can\\nget security recommendations as you code or scan entire projects to monitor the security posture\\nof your applications throughout development. For more information, see Scan your code with\\nAmazon Q.\\nContact AWS Support\\nYou can create AWS Support cases and chat with a live support agent within Amazon Q to address',\n",
       " \"Amazon Q.\\nContact AWS Support\\nYou can create AWS Support cases and chat with a live support agent within Amazon Q to address\\nissues you're having with AWS services. You can access AWS Support with Amazon Q in the AWS\\nManagement Console. For more information, see Use Amazon Q Developer to chat with AWS\\nSupport.\\nUse Amazon Q in AWS Chatbot\\nYou can add Amazon Q to your Slack and Microsoft Teams channels that are configured with AWS\",\n",
       " 'Support.\\nUse Amazon Q in AWS Chatbot\\nYou can add Amazon Q to your Slack and Microsoft Teams channels that are configured with AWS\\nChatbot. Amazon Q in AWS Chatbot can answer questions about building at AWS, including those\\nabout best practices for building solutions, troubleshooting issues, and identifying next steps. For\\nmore information, see Chat with Amazon Q Developer in AWS Chatbot.\\nUse Amazon Q in the AWS Console Mobile Application',\n",
       " 'more information, see Chat with Amazon Q Developer in AWS Chatbot.\\nUse Amazon Q in the AWS Console Mobile Application\\nAmazon Q is integrated with the AWS Console Mobile Application to answer questions about AWS.\\nYou configure access the same way that you get access to Amazon Q in the AWS Management\\nConsole. For more information, see Setting up Amazon Q Developer.\\nScan your code for security vulnerabilities\\n5\\nAmazon Q Developer\\nUser Guide\\nSetting up Amazon Q Developer',\n",
       " 'Scan your code for security vulnerabilities\\n5\\nAmazon Q Developer\\nUser Guide\\nSetting up Amazon Q Developer\\nThis section relates to setting up Amazon Q Developer as an administrator for your organization.\\nTo start using Amazon Q Developer as an non-administrative user, see the following topics:\\nAdd permissions for Amazon Q on AWS apps and websites\\nInstall the Amazon Q extension in your IDE\\nSet up AWS coding environments for inline suggestions',\n",
       " 'Install the Amazon Q extension in your IDE\\nSet up AWS coding environments for inline suggestions\\nFor administrators setting up Amazon Q Developer, complete the topics in this chapter.\\nTopics\\nAccount, IAM Identity Center, and Organization setup\\nUnderstanding tiers of service for Amazon Q Developer\\nSubscriptions\\ni Note\\nIn the AWS Management Console, AWS Console Mobile Application, AWS website, and AWS\\nDocumentation website, the Amazon Q icon appears regardless of whether Amazon Q is\\nenabled.',\n",
       " 'Documentation website, the Amazon Q icon appears regardless of whether Amazon Q is\\nenabled.\\nIf a user, group, or role has the AdministratorAccess policy attached, Amazon Q is\\nenabled. For information about how to manage access to Amazon Q, see Manage access to\\nAmazon Q Developer with policies.\\nAccount, IAM Identity Center, and Organization setup\\nStep 1: Setting up your AWS account\\nSign up for an AWS account\\nIf you do not have an AWS account, complete the following steps to create one.',\n",
       " 'Step 1: Setting up your AWS account\\nSign up for an AWS account\\nIf you do not have an AWS account, complete the following steps to create one.\\nPrerequisites\\n6\\nAmazon Q Developer\\nUser Guide\\nTo sign up for an AWS account\\n1.\\nOpen https://portal.aws.amazon.com/billing/signup\\n2.\\nFollow the online instructions.\\nPart of the sign-up procedure involves receiving a phone call and entering a verification code\\non the phone keypad.',\n",
       " 'Follow the online instructions.\\nPart of the sign-up procedure involves receiving a phone call and entering a verification code\\non the phone keypad.\\nWhen you sign up for an AWS account, an AWS account root user is created. The root user\\nhas access to all AWS services and resources in the account. As a security best practice, assign\\nadministrative access to a user, and use only the root user to perform tasks that require root\\nuser access.',\n",
       " 'administrative access to a user, and use only the root user to perform tasks that require root\\nuser access.\\nAWS sends you a confirmation email after the sign-up process is complete. At any time, you can\\nview your current account activity and manage your account by going to https://aws.amazon.com/\\nand choosing My Account.\\nCreate a user with administrative access\\nAfter you sign up for an AWS account, secure your AWS account root user, enable AWS IAM Identity',\n",
       " \"Create a user with administrative access\\nAfter you sign up for an AWS account, secure your AWS account root user, enable AWS IAM Identity\\nCenter, and create an administrative user so that you don't use the root user for everyday tasks.\\nSecure your AWS account root user\\n1.\\nSign in to the AWS Management Console as the account owner by choosing Root user and\\nentering your AWS account email address. On the next page, enter your password.\",\n",
       " 'entering your AWS account email address. On the next page, enter your password.\\nFor help signing in by using root user, see Signing in as the root user in the AWS Sign-In User\\nGuide.\\n2.\\nTurn on multi-factor authentication (MFA) for your root user.\\nFor instructions, see Enable a virtual MFA device for your AWS account root user (console) in\\nthe IAM User Guide.\\nCreate a user with administrative access\\n1.\\nEnable IAM Identity Center.\\nStep 1: Setting up your AWS account\\n7\\nAmazon Q Developer',\n",
       " 'the IAM User Guide.\\nCreate a user with administrative access\\n1.\\nEnable IAM Identity Center.\\nStep 1: Setting up your AWS account\\n7\\nAmazon Q Developer\\nUser Guide\\nFor instructions, see Enabling AWS IAM Identity Center in the AWS IAM Identity Center User\\nGuide.\\n2.\\nIn IAM Identity Center, grant administrative access to a user.\\nFor a tutorial about using the IAM Identity Center directory as your identity source, see',\n",
       " 'For a tutorial about using the IAM Identity Center directory as your identity source, see\\nConfigure user access with the default IAM Identity Center directory in the AWS IAM Identity\\nCenter User Guide.\\nSign in as the user with administrative access\\nTo sign in with your IAM Identity Center user, use the sign-in URL that was sent to your email\\naddress when you created the IAM Identity Center user.\\nFor help signing in using an IAM Identity Center user, see Signing in to the AWS access portal in',\n",
       " 'For help signing in using an IAM Identity Center user, see Signing in to the AWS access portal in\\nthe AWS Sign-In User Guide.\\nAssign access to additional users\\n1. In IAM Identity Center, create a permission set that follows the best practice of applying least-\\nprivilege permissions.\\nFor instructions, see Create a permission set in the AWS IAM Identity Center User Guide.\\n2.\\nAssign users to a group, and then assign single sign-on access to the group.',\n",
       " '2.\\nAssign users to a group, and then assign single sign-on access to the group.\\nFor instructions, see Add groups in the AWS IAM Identity Center User Guide.\\nStep 2: Setting up AWS Organizations\\nOrganizations is an account management service that enables you to consolidate multiple AWS\\naccounts into an organization that you create and centrally manage.\\nFor more information, refer to What is AWS Organizations in The AWS Organizations User Guide.',\n",
       " 'For more information, refer to What is AWS Organizations in The AWS Organizations User Guide.\\nStep 3: Setting up IAM Identity Center with Amazon Q Developer Pro\\nIn order to use Amazon Q Developer Pro, you must use IAM Identity Center. IAM Identity Center is\\nthe recommended AWS service for managing human user access to AWS resources. It is through\\nStep 2: Setting up AWS Organizations\\n8']"
      ]
     },
     "execution_count": 69,
     "metadata": {},
     "output_type": "execute_result"
    }
   ],
   "source": [
    "chunks"
   ]
  },
  {
   "cell_type": "code",
   "execution_count": 70,
   "id": "1368c1f7",
   "metadata": {},
   "outputs": [
    {
     "name": "stdout",
     "output_type": "stream",
     "text": [
      "Uploaded chunk_1.txt to bedrock-kb-us-west-2-734389953405-newchunk\n",
      "Uploaded chunk_2.txt to bedrock-kb-us-west-2-734389953405-newchunk\n",
      "Uploaded chunk_3.txt to bedrock-kb-us-west-2-734389953405-newchunk\n",
      "Uploaded chunk_4.txt to bedrock-kb-us-west-2-734389953405-newchunk\n",
      "Uploaded chunk_5.txt to bedrock-kb-us-west-2-734389953405-newchunk\n",
      "Uploaded chunk_6.txt to bedrock-kb-us-west-2-734389953405-newchunk\n",
      "Uploaded chunk_7.txt to bedrock-kb-us-west-2-734389953405-newchunk\n",
      "Uploaded chunk_8.txt to bedrock-kb-us-west-2-734389953405-newchunk\n",
      "Uploaded chunk_9.txt to bedrock-kb-us-west-2-734389953405-newchunk\n",
      "Uploaded chunk_10.txt to bedrock-kb-us-west-2-734389953405-newchunk\n",
      "Uploaded chunk_11.txt to bedrock-kb-us-west-2-734389953405-newchunk\n",
      "Uploaded chunk_12.txt to bedrock-kb-us-west-2-734389953405-newchunk\n",
      "Uploaded chunk_13.txt to bedrock-kb-us-west-2-734389953405-newchunk\n",
      "Uploaded chunk_14.txt to bedrock-kb-us-west-2-734389953405-newchunk\n",
      "Uploaded chunk_15.txt to bedrock-kb-us-west-2-734389953405-newchunk\n",
      "Uploaded chunk_16.txt to bedrock-kb-us-west-2-734389953405-newchunk\n",
      "Uploaded chunk_17.txt to bedrock-kb-us-west-2-734389953405-newchunk\n",
      "Uploaded chunk_18.txt to bedrock-kb-us-west-2-734389953405-newchunk\n",
      "Uploaded chunk_19.txt to bedrock-kb-us-west-2-734389953405-newchunk\n",
      "Uploaded chunk_20.txt to bedrock-kb-us-west-2-734389953405-newchunk\n",
      "Uploaded chunk_21.txt to bedrock-kb-us-west-2-734389953405-newchunk\n",
      "Uploaded chunk_22.txt to bedrock-kb-us-west-2-734389953405-newchunk\n",
      "Uploaded chunk_23.txt to bedrock-kb-us-west-2-734389953405-newchunk\n",
      "Uploaded chunk_24.txt to bedrock-kb-us-west-2-734389953405-newchunk\n",
      "Uploaded chunk_25.txt to bedrock-kb-us-west-2-734389953405-newchunk\n",
      "Uploaded chunk_26.txt to bedrock-kb-us-west-2-734389953405-newchunk\n",
      "Uploaded chunk_27.txt to bedrock-kb-us-west-2-734389953405-newchunk\n",
      "Uploaded chunk_28.txt to bedrock-kb-us-west-2-734389953405-newchunk\n",
      "Uploaded chunk_29.txt to bedrock-kb-us-west-2-734389953405-newchunk\n",
      "Uploaded chunk_30.txt to bedrock-kb-us-west-2-734389953405-newchunk\n",
      "Uploaded chunk_31.txt to bedrock-kb-us-west-2-734389953405-newchunk\n",
      "Uploaded chunk_32.txt to bedrock-kb-us-west-2-734389953405-newchunk\n",
      "Uploaded chunk_33.txt to bedrock-kb-us-west-2-734389953405-newchunk\n",
      "All chunks have been uploaded to S3.\n"
     ]
    }
   ],
   "source": [
    "import boto3\n",
    "\n",
    "# Initialize the S3 client\n",
    "s3 = boto3.client('s3')\n",
    "\n",
    "# Define the S3 bucket name\n",
    "bucket_name = 'bedrock-kb-us-west-2-734389953405-newchunk'\n",
    "\n",
    "\n",
    "\n",
    "# Loop through the chunks and create text files\n",
    "for i, chunk in enumerate(chunks, start=1):\n",
    "    file_name = f'chunk_{i}.txt'\n",
    "    s3.put_object(Bucket=bucket_name, Key=file_name, Body=chunk)\n",
    "    print(f'Uploaded {file_name} to {bucket_name}')\n",
    "\n",
    "print(\"All chunks have been uploaded to S3.\")\n"
   ]
  },
  {
   "cell_type": "markdown",
   "id": "5090c8d2",
   "metadata": {},
   "source": [
    "# none chunking application"
   ]
  },
  {
   "cell_type": "code",
   "execution_count": 80,
   "id": "2ea24e8d",
   "metadata": {},
   "outputs": [
    {
     "name": "stdout",
     "output_type": "stream",
     "text": [
      "'YELOBDEE2V'\n"
     ]
    }
   ],
   "source": [
    "kb_id_1 = \"YELOBDEE2V\"\n",
    "pp.pprint(kb_id_1)"
   ]
  },
  {
   "cell_type": "code",
   "execution_count": 81,
   "id": "4d41696a",
   "metadata": {},
   "outputs": [
    {
     "name": "stdout",
     "output_type": "stream",
     "text": [
      "Stored 'kb_id_1' (str)\n"
     ]
    }
   ],
   "source": [
    "# keep the kb_id for invocation later in the invoke request\n",
    "%store kb_id_1"
   ]
  },
  {
   "cell_type": "code",
   "execution_count": 82,
   "id": "b1b4ae7e",
   "metadata": {},
   "outputs": [
    {
     "name": "stdout",
     "output_type": "stream",
     "text": [
      "us-west-2\n"
     ]
    }
   ],
   "source": [
    "import boto3\n",
    "import pprint\n",
    "from botocore.client import Config\n",
    "import json\n",
    "\n",
    "pp = pprint.PrettyPrinter(indent=2)\n",
    "session = boto3.session.Session()\n",
    "region = session.region_name\n",
    "bedrock_config = Config(connect_timeout=120, read_timeout=120, retries={'max_attempts': 0})\n",
    "bedrock_client = boto3.client('bedrock-runtime', region_name = region)\n",
    "bedrock_agent_client = boto3.client(\"bedrock-agent-runtime\",\n",
    "                              config=bedrock_config, region_name = region)\n",
    "print(region)"
   ]
  },
  {
   "cell_type": "code",
   "execution_count": 88,
   "id": "9b7cd503",
   "metadata": {},
   "outputs": [],
   "source": [
    "def retrieve(query, kbId_1, numberOfResults):\n",
    "    return bedrock_agent_client.retrieve(\n",
    "        retrievalQuery= {\n",
    "            'text': query\n",
    "        },\n",
    "        knowledgeBaseId=kbId_1,\n",
    "        retrievalConfiguration= {\n",
    "            'vectorSearchConfiguration': {\n",
    "                'numberOfResults': numberOfResults\n",
    "            }\n",
    "        }\n",
    "    )\n"
   ]
  },
  {
   "cell_type": "code",
   "execution_count": 89,
   "id": "a29e330f",
   "metadata": {},
   "outputs": [],
   "source": [
    "def retrieve_information(query, num_results):\n",
    "    response = retrieve(query, kb_id_1, num_results)\n",
    "    retrievalResults = response['retrievalResults']\n",
    "    pp = pprint.PrettyPrinter(indent=10)\n",
    "    return retrievalResults"
   ]
  },
  {
   "cell_type": "code",
   "execution_count": 105,
   "id": "ac349376",
   "metadata": {},
   "outputs": [],
   "source": [
    "query = \"how to set up amazon q dev?\"\n",
    "retrievalResults=retrieve_information(query,5)"
   ]
  },
  {
   "cell_type": "code",
   "execution_count": 106,
   "id": "4b4e7f29",
   "metadata": {},
   "outputs": [],
   "source": [
    "def get_contexts(retrievalResults):\n",
    "    contexts = []\n",
    "    for retrievedResult in retrievalResults: \n",
    "        contexts.append(retrievedResult['content']['text'])\n",
    "    return contexts"
   ]
  },
  {
   "cell_type": "code",
   "execution_count": 107,
   "id": "430e7dd9",
   "metadata": {},
   "outputs": [
    {
     "data": {
      "text/plain": [
       "['Amazon Q Developer User Guide What is Amazon Q Developer? Note Powered by Amazon Bedrock: AWS implements automated abuse detection. Because Amazon Q Developer is built on Amazon Bedrock, users can take full advantage of the controls implemented in Amazon Bedrock to enforce safety, security, and the responsible use of artificial intelligence (AI). Amazon Q Developer is a generative artificial intelligence (AI) powered conversational assistant that can help you understand, build, extend, and operate AWS applications. You can ask questions about AWS architecture, your AWS resources, best practices, documentation, support, and more. Amazon Q is constantly updating its capabilities so your questions get the most contextually relevant and actionable answers. When used in an integrated development environment (IDE), Amazon Q provides software development assistance. Amazon Q can chat about code, provide inline code completions, generate net new code, scan your code for security vulnerabilities, and make code upgrades and improvements, such as language updates, debugging, and optimizations. Amazon Q is powered by Amazon Bedrock, a fully managed service that makes foundation models (FMs) available through an API. The model that powers Amazon Q has been augmented with high quality AWS content to get you more complete, actionable, and referenced answers to accelerate your building on AWS. Note This is the documentation for Amazon Q Developer. If you are looking for documentation for Amazon Q Business, see the Amazon Q Business User Guide. Key features of Amazon Q Developer Amazon Q Developer includes the following capabilities: Chat - Amazon Q answers natural language questions in English about AWS, including questions about AWS service selection, AWS Command Line Interface (AWS CLI) usage, documentation, Key features of Amazon Q 1 Amazon Q Developer User Guide best practices, and your AWS resources. Amazon Q responds with information summaries or step-by-step instructions, and includes links to its information sources. Conversation memory - Amazon Q uses the context of your conversation to inform future responses for the duration of your conversation. Code improvements and advice - Within IDEs, Amazon Q can answer questions about software development, improve your code, and generate new code. Code completion - As you write code, Amazon Q automatically generates suggestions, in real time, based on your existing code and comments. Troubleshoot and support - Amazon Q can help you understand errors in the AWS Management Console and provides access to live AWS Support agents to address your AWS questions and issues.',\n",
       " 'Code improvements and advice - Within IDEs, Amazon Q can answer questions about software development, improve your code, and generate new code. Code completion - As you write code, Amazon Q automatically generates suggestions, in real time, based on your existing code and comments. Troubleshoot and support - Amazon Q can help you understand errors in the AWS Management Console and provides access to live AWS Support agents to address your AWS questions and issues. For more information about these and other Amazon Q features, see Amazon Q Developer features. Get started with Amazon Q Developer To quickly get started using Amazon Q, you can access it in the following ways: AWS apps and websites Add the necessary permissions to your IAM identity, and then choose the Amazon Q icon to start chatting in the AWS Management Console, AWS Documentation website, AWS website, or AWS Console Mobile Application. For more information, see Amazon Q Developer on AWS apps and websites. IDEs Download the Amazon Q extension and use your AWS Builder ID (no AWS account required) to sign in for free. Download Amazon Q in Visual Studio Code Get started 2 Amazon Q Developer User Guide Get answers in context to your conversation Amazon Q uses the context of your current conversation to inform its responses. You can ask follow-up questions or refer to its response when you ask a new question. Diagnose common console errors With Amazon Q, you can diagnose console error messages directly in the AWS Management Console. Amazon Q provides information about the error and an overview of a potential solution. For more information, see Diagnose common errors in the console with Amazon Q Developer. Develop software After you explain, in natural language, the feature that you want to develop, Amazon Q can use the context of your current project to generate an implementation plan and the accompanying code. Amazon Q can help you build AWS projects or your own applications. For more information, see Develop software with the Amazon Q Developer Agent for software development. Chat about code Within integrated development environments (IDEs), Amazon Q can answer questions related to the software development process, including conceptual questions about programming and how specific code works. You can also ask Amazon Q to update and improve code snippets from the chat panel. For more information, see Chat with Amazon Q Developer about code. Get inline code suggestions Amazon Q provides you with code recommendations in real time.']"
      ]
     },
     "execution_count": 107,
     "metadata": {},
     "output_type": "execute_result"
    }
   ],
   "source": [
    "contexts"
   ]
  },
  {
   "cell_type": "markdown",
   "id": "e10f52cf",
   "metadata": {},
   "source": [
    "# RAG Fusion"
   ]
  },
  {
   "cell_type": "markdown",
   "id": "2b57502f",
   "metadata": {},
   "source": [
    "## none chunking"
   ]
  },
  {
   "cell_type": "code",
   "execution_count": 233,
   "id": "216d559d",
   "metadata": {},
   "outputs": [
    {
     "name": "stdout",
     "output_type": "stream",
     "text": [
      "'YELOBDEE2V'\n"
     ]
    }
   ],
   "source": [
    "kb_id_1 = \"YELOBDEE2V\"\n",
    "pp.pprint(kb_id_1)"
   ]
  },
  {
   "cell_type": "code",
   "execution_count": 234,
   "id": "e8bb1433",
   "metadata": {},
   "outputs": [
    {
     "name": "stdout",
     "output_type": "stream",
     "text": [
      "us-west-2\n"
     ]
    }
   ],
   "source": [
    "import boto3\n",
    "import pprint\n",
    "from botocore.client import Config\n",
    "import json\n",
    "\n",
    "pp = pprint.PrettyPrinter(indent=2)\n",
    "session = boto3.session.Session()\n",
    "region = session.region_name\n",
    "bedrock_config = Config(connect_timeout=120, read_timeout=120, retries={'max_attempts': 0})\n",
    "bedrock_client = boto3.client('bedrock-runtime', region_name = region)\n",
    "bedrock_agent_client = boto3.client(\"bedrock-agent-runtime\",\n",
    "                              config=bedrock_config, region_name = region)\n",
    "print(region)"
   ]
  },
  {
   "cell_type": "code",
   "execution_count": 235,
   "id": "2fc48779",
   "metadata": {},
   "outputs": [],
   "source": [
    "def retrieve(query, kbId_1, numberOfResults):\n",
    "    return bedrock_agent_client.retrieve(\n",
    "        retrievalQuery= {\n",
    "            'text': query\n",
    "        },\n",
    "        knowledgeBaseId=kbId_1,\n",
    "        retrievalConfiguration= {\n",
    "            'vectorSearchConfiguration': {\n",
    "                'numberOfResults': numberOfResults\n",
    "            }\n",
    "        }\n",
    "    )\n"
   ]
  },
  {
   "cell_type": "code",
   "execution_count": 236,
   "id": "d4fbd7fb",
   "metadata": {},
   "outputs": [],
   "source": [
    "def retrieve_information(query, num_results):\n",
    "    response = retrieve(query, kb_id_1, num_results)\n",
    "    retrievalResults = response['retrievalResults']\n",
    "    pp = pprint.PrettyPrinter(indent=10)\n",
    "    return retrievalResults"
   ]
  },
  {
   "cell_type": "code",
   "execution_count": 237,
   "id": "59c437d9",
   "metadata": {},
   "outputs": [],
   "source": [
    "query = \"what are Key features of Amazon Q Developer?\"\n",
    "retrievalResults_2=retrieve_information(query,10)"
   ]
  },
  {
   "cell_type": "code",
   "execution_count": 238,
   "id": "3818d9ef",
   "metadata": {},
   "outputs": [
    {
     "data": {
      "text/plain": [
       "[{'content': {'text': 'Amazon Q Developer\\nUser Guide\\nWhat is Amazon Q Developer?\\nNote\\nPowered by Amazon Bedrock: AWS implements automated abuse detection. Because\\nAmazon Q Developer is built on Amazon Bedrock, users can take full advantage of the\\ncontrols implemented in Amazon Bedrock to enforce safety, security, and the responsible\\nuse of artificial intelligence (AI).\\nAmazon Q Developer is a generative artificial intelligence (AI) powered conversational assistant'},\n",
       "  'location': {'type': 'S3',\n",
       "   's3Location': {'uri': 's3://gen-ai-dummy/chunk_1.txt'}},\n",
       "  'score': 0.66296},\n",
       " {'content': {'text': 'use of artificial intelligence (AI).\\nAmazon Q Developer is a generative artificial intelligence (AI) powered conversational assistant\\nthat can help you understand, build, extend, and operate AWS applications. You can ask questions\\nabout AWS architecture, your AWS resources, best practices, documentation, support, and more.\\nAmazon Q is constantly updating its capabilities so your questions get the most contextually\\nrelevant and actionable answers.'},\n",
       "  'location': {'type': 'S3',\n",
       "   's3Location': {'uri': 's3://gen-ai-dummy/chunk_2.txt'}},\n",
       "  'score': 0.66057414},\n",
       " {'content': {'text': 'Amazon Q is constantly updating its capabilities so your questions get the most contextually\\nrelevant and actionable answers.\\nWhen used in an integrated development environment (IDE), Amazon Q provides software\\ndevelopment assistance. Amazon Q can chat about code, provide inline code completions,\\ngenerate net new code, scan your code for security vulnerabilities, and make code upgrades and\\nimprovements, such as language updates, debugging, and optimizations.'},\n",
       "  'location': {'type': 'S3',\n",
       "   's3Location': {'uri': 's3://gen-ai-dummy/chunk_3.txt'}},\n",
       "  'score': 0.6543336},\n",
       " {'content': {'text': 'your building on AWS.\\nNote\\nThis is the documentation for Amazon Q Developer. If you are looking for documentation\\nfor Amazon Q Business, see the Amazon Q Business User Guide.\\nKey features of Amazon Q Developer\\nAmazon Q Developer includes the following capabilities:\\nChat - Amazon Q answers natural language questions in English about AWS, including questions\\nabout AWS service selection, AWS Command Line Interface (AWS CLI) usage, documentation,\\nKey features of Amazon Q\\n1\\nAmazon Q Developer'},\n",
       "  'location': {'type': 'S3',\n",
       "   's3Location': {'uri': 's3://gen-ai-dummy/chunk_5.txt'}},\n",
       "  'score': 0.6430563},\n",
       " {'content': {'text': 'improvements, such as language updates, debugging, and optimizations.\\nAmazon Q is powered by Amazon Bedrock, a fully managed service that makes foundation models\\n(FMs) available through an API. The model that powers Amazon Q has been augmented with high\\nquality AWS content to get you more complete, actionable, and referenced answers to accelerate\\nyour building on AWS.\\nNote\\nThis is the documentation for Amazon Q Developer. If you are looking for documentation'},\n",
       "  'location': {'type': 'S3',\n",
       "   's3Location': {'uri': 's3://gen-ai-dummy/chunk_4.txt'}},\n",
       "  'score': 0.6106238},\n",
       " {'content': {'text': 'Conversation memory - Amazon Q uses the context of your conversation to inform future\\nresponses for the duration of your conversation.\\nCode improvements and advice - Within IDEs, Amazon Q can answer questions about software\\ndevelopment, improve your code, and generate new code.\\nCode completion - As you write code, Amazon Q automatically generates suggestions, in real\\ntime, based on your existing code and comments.'},\n",
       "  'location': {'type': 'S3',\n",
       "   's3Location': {'uri': 's3://gen-ai-dummy/chunk_7.txt'}},\n",
       "  'score': 0.60924256},\n",
       " {'content': {'text': 'Code completion - As you write code, Amazon Q automatically generates suggestions, in real\\ntime, based on your existing code and comments.\\nTroubleshoot and support - Amazon Q can help you understand errors in the AWS Management\\nConsole and provides access to live AWS Support agents to address your AWS questions and\\nissues.\\nFor more information about these and other Amazon Q features, see Amazon Q Developer\\nfeatures.\\nGet started with Amazon Q Developer'},\n",
       "  'location': {'type': 'S3',\n",
       "   's3Location': {'uri': 's3://gen-ai-dummy/chunk_8.txt'}},\n",
       "  'score': 0.6072555},\n",
       " {'content': {'text': 'Develop software\\nAfter you explain, in natural language, the feature that you want to develop, Amazon Q can use the\\ncontext of your current project to generate an implementation plan and the accompanying code.\\nAmazon Q can help you build AWS projects or your own applications. For more information, see\\nDevelop software with the Amazon Q Developer Agent for software development.\\nChat about code\\nWithin integrated development environments (IDEs), Amazon Q can answer questions related to'},\n",
       "  'location': {'type': 'S3',\n",
       "   's3Location': {'uri': 's3://gen-ai-dummy/chunk_13.txt'}},\n",
       "  'score': 0.5991322},\n",
       " {'content': {'text': 'more information, see Chat with Amazon Q Developer in AWS Chatbot.\\nUse Amazon Q in the AWS Console Mobile Application\\nAmazon Q is integrated with the AWS Console Mobile Application to answer questions about AWS.\\nYou configure access the same way that you get access to Amazon Q in the AWS Management\\nConsole. For more information, see Setting up Amazon Q Developer.\\nScan your code for security vulnerabilities\\n5\\nAmazon Q Developer\\nUser Guide\\nSetting up Amazon Q Developer'},\n",
       "  'location': {'type': 'S3',\n",
       "   's3Location': {'uri': 's3://gen-ai-dummy/chunk_20.txt'}},\n",
       "  'score': 0.5930077},\n",
       " {'content': {'text': 'issues.\\nFor more information about these and other Amazon Q features, see Amazon Q Developer\\nfeatures.\\nGet started with Amazon Q Developer\\nTo quickly get started using Amazon Q, you can access it in the following ways:\\nAWS apps and websites\\nAdd the necessary permissions to your IAM identity, and then choose the Amazon Q icon to\\nstart chatting in the AWS Management Console, AWS Documentation website, AWS website, or'},\n",
       "  'location': {'type': 'S3',\n",
       "   's3Location': {'uri': 's3://gen-ai-dummy/chunk_9.txt'}},\n",
       "  'score': 0.5807044}]"
      ]
     },
     "execution_count": 238,
     "metadata": {},
     "output_type": "execute_result"
    }
   ],
   "source": [
    "retrievalResults_2"
   ]
  },
  {
   "cell_type": "markdown",
   "id": "f7e6c77e",
   "metadata": {},
   "source": [
    "## for fixed chunking"
   ]
  },
  {
   "cell_type": "code",
   "execution_count": 239,
   "id": "eb903035",
   "metadata": {},
   "outputs": [
    {
     "name": "stdout",
     "output_type": "stream",
     "text": [
      "'8SYD79ZBQV'\n"
     ]
    }
   ],
   "source": [
    "kb_id = \"8SYD79ZBQV\"\n",
    "pp.pprint(kb_id)"
   ]
  },
  {
   "cell_type": "code",
   "execution_count": 240,
   "id": "c551df2e",
   "metadata": {},
   "outputs": [
    {
     "name": "stdout",
     "output_type": "stream",
     "text": [
      "Stored 'kb_id' (str)\n"
     ]
    }
   ],
   "source": [
    "# keep the kb_id for invocation later in the invoke request\n",
    "%store kb_id"
   ]
  },
  {
   "cell_type": "code",
   "execution_count": 241,
   "id": "babefdc0",
   "metadata": {},
   "outputs": [
    {
     "name": "stdout",
     "output_type": "stream",
     "text": [
      "us-west-2\n"
     ]
    }
   ],
   "source": [
    "import boto3\n",
    "import pprint\n",
    "from botocore.client import Config\n",
    "import json\n",
    "\n",
    "pp = pprint.PrettyPrinter(indent=2)\n",
    "session = boto3.session.Session()\n",
    "region = session.region_name\n",
    "bedrock_config = Config(connect_timeout=120, read_timeout=120, retries={'max_attempts': 0})\n",
    "bedrock_client = boto3.client('bedrock-runtime', region_name = region)\n",
    "bedrock_agent_client = boto3.client(\"bedrock-agent-runtime\",\n",
    "                              config=bedrock_config, region_name = region)\n",
    "print(region)"
   ]
  },
  {
   "cell_type": "code",
   "execution_count": 242,
   "id": "032549cb",
   "metadata": {},
   "outputs": [],
   "source": [
    "def retrieve(query, kbId, numberOfResults):\n",
    "    return bedrock_agent_client.retrieve(\n",
    "        retrievalQuery= {\n",
    "            'text': query\n",
    "        },\n",
    "        knowledgeBaseId=kbId,\n",
    "        retrievalConfiguration= {\n",
    "            'vectorSearchConfiguration': {\n",
    "                'numberOfResults': numberOfResults\n",
    "            }\n",
    "        }\n",
    "    )"
   ]
  },
  {
   "cell_type": "code",
   "execution_count": 243,
   "id": "0a1600de",
   "metadata": {},
   "outputs": [],
   "source": [
    "def retrieve_information(query, num_results):\n",
    "    response = retrieve(query, kb_id, num_results)\n",
    "    retrievalResults = response['retrievalResults']\n",
    "    pp = pprint.PrettyPrinter(indent=2)\n",
    "    return retrievalResults"
   ]
  },
  {
   "cell_type": "code",
   "execution_count": 244,
   "id": "6bf952a0",
   "metadata": {},
   "outputs": [],
   "source": [
    "query = \"what are Key features of Amazon Q Developer?\"\n",
    "retrievalResults_1=retrieve_information(query,10)"
   ]
  },
  {
   "cell_type": "code",
   "execution_count": 245,
   "id": "58a4c2cb",
   "metadata": {},
   "outputs": [
    {
     "data": {
      "text/plain": [
       "[{'content': {'text': 'Amazon Q Developer User Guide What is Amazon Q Developer? Note Powered by Amazon Bedrock: AWS implements automated abuse detection. Because Amazon Q Developer is built on Amazon Bedrock, users can take full advantage of the controls implemented in Amazon Bedrock to enforce safety, security, and the responsible use of artificial intelligence (AI). Amazon Q Developer is a generative artificial intelligence (AI) powered conversational assistant that can help you understand, build, extend, and operate AWS applications. You can ask questions about AWS architecture, your AWS resources, best practices, documentation, support, and more. Amazon Q is constantly updating its capabilities so your questions get the most contextually relevant and actionable answers. When used in an integrated development environment (IDE), Amazon Q provides software development assistance. Amazon Q can chat about code, provide inline code completions, generate net new code, scan your code for security vulnerabilities, and make code upgrades and improvements, such as language updates, debugging, and optimizations. Amazon Q is powered by Amazon Bedrock, a fully managed service that makes foundation models (FMs) available through an API. The model that powers Amazon Q has been augmented with high quality AWS content to get you more complete, actionable, and referenced answers to accelerate your building on AWS. Note This is the documentation for Amazon Q Developer. If you are looking for documentation for Amazon Q Business, see the Amazon Q Business User Guide. Key features of Amazon Q Developer Amazon Q Developer includes the following capabilities: Chat - Amazon Q answers natural language questions in English about AWS, including questions about AWS service selection, AWS Command Line Interface (AWS CLI) usage, documentation, Key features of Amazon Q 1 Amazon Q Developer User Guide best practices, and your AWS resources. Amazon Q responds with information summaries or step-by-step instructions, and includes links to its information sources. Conversation memory - Amazon Q uses the context of your conversation to inform future responses for the duration of your conversation. Code improvements and advice - Within IDEs, Amazon Q can answer questions about software development, improve your code, and generate new code. Code completion - As you write code, Amazon Q automatically generates suggestions, in real time, based on your existing code and comments. Troubleshoot and support - Amazon Q can help you understand errors in the AWS Management Console and provides access to live AWS Support agents to address your AWS questions and issues.'},\n",
       "  'location': {'type': 'S3',\n",
       "   's3Location': {'uri': 's3://bedrock-kb-us-west-2-734389953405/extracted_text.txt'}},\n",
       "  'score': 0.68851006},\n",
       " {'content': {'text': 'Code improvements and advice - Within IDEs, Amazon Q can answer questions about software development, improve your code, and generate new code. Code completion - As you write code, Amazon Q automatically generates suggestions, in real time, based on your existing code and comments. Troubleshoot and support - Amazon Q can help you understand errors in the AWS Management Console and provides access to live AWS Support agents to address your AWS questions and issues. For more information about these and other Amazon Q features, see Amazon Q Developer features. Get started with Amazon Q Developer To quickly get started using Amazon Q, you can access it in the following ways: AWS apps and websites Add the necessary permissions to your IAM identity, and then choose the Amazon Q icon to start chatting in the AWS Management Console, AWS Documentation website, AWS website, or AWS Console Mobile Application. For more information, see Amazon Q Developer on AWS apps and websites. IDEs Download the Amazon Q extension and use your AWS Builder ID (no AWS account required) to sign in for free. Download Amazon Q in Visual Studio Code Get started 2 Amazon Q Developer User Guide Get answers in context to your conversation Amazon Q uses the context of your current conversation to inform its responses. You can ask follow-up questions or refer to its response when you ask a new question. Diagnose common console errors With Amazon Q, you can diagnose console error messages directly in the AWS Management Console. Amazon Q provides information about the error and an overview of a potential solution. For more information, see Diagnose common errors in the console with Amazon Q Developer. Develop software After you explain, in natural language, the feature that you want to develop, Amazon Q can use the context of your current project to generate an implementation plan and the accompanying code. Amazon Q can help you build AWS projects or your own applications. For more information, see Develop software with the Amazon Q Developer Agent for software development. Chat about code Within integrated development environments (IDEs), Amazon Q can answer questions related to the software development process, including conceptual questions about programming and how specific code works. You can also ask Amazon Q to update and improve code snippets from the chat panel. For more information, see Chat with Amazon Q Developer about code. Get inline code suggestions Amazon Q provides you with code recommendations in real time.'},\n",
       "  'location': {'type': 'S3',\n",
       "   's3Location': {'uri': 's3://bedrock-kb-us-west-2-734389953405/extracted_text.txt'}},\n",
       "  'score': 0.68004155},\n",
       " {'content': {'text': \"You can also ask Amazon Q to update and improve code snippets from the chat panel. For more information, see Chat with Amazon Q Developer about code. Get inline code suggestions Amazon Q provides you with code recommendations in real time. As you write code, Amazon Q automatically generates suggestions based on your existing code and comments. For more information, see Get inline suggestions with Amazon Q. Transform code Within IDEs, Amazon Q can update the language version of your code files. Currently, Amazon Q Code Transformation supports updating Java 8 and Java 11 code to Java 17. For more information, see Upgrade language versions with the Amazon Q Developer Agent for Code Transformation. Get answers in context to your conversation 4 Amazon Q Developer User Guide Scan your code for security vulnerabilities Within IDEs, Amazon Q scans your code for security vulnerabilities and code quality issues. You can get security recommendations as you code or scan entire projects to monitor the security posture of your applications throughout development. For more information, see Scan your code with Amazon Q. Contact AWS Support You can create AWS Support cases and chat with a live support agent within Amazon Q to address issues you're having with AWS services. You can access AWS Support with Amazon Q in the AWS Management Console. For more information, see Use Amazon Q Developer to chat with AWS Support. Use Amazon Q in AWS Chatbot You can add Amazon Q to your Slack and Microsoft Teams channels that are configured with AWS Chatbot. Amazon Q in AWS Chatbot can answer questions about building at AWS, including those about best practices for building solutions, troubleshooting issues, and identifying next steps. For more information, see Chat with Amazon Q Developer in AWS Chatbot. Use Amazon Q in the AWS Console Mobile Application Amazon Q is integrated with the AWS Console Mobile Application to answer questions about AWS. You configure access the same way that you get access to Amazon Q in the AWS Management Console. For more information, see Setting up Amazon Q Developer. Scan your code for security vulnerabilities 5 Amazon Q Developer User Guide Setting up Amazon Q Developer This section relates to setting up Amazon Q Developer as an administrator for your organization.\"},\n",
       "  'location': {'type': 'S3',\n",
       "   's3Location': {'uri': 's3://bedrock-kb-us-west-2-734389953405/extracted_text.txt'}},\n",
       "  'score': 0.6441722},\n",
       " {'content': {'text': 'Use Amazon Q in the AWS Console Mobile Application Amazon Q is integrated with the AWS Console Mobile Application to answer questions about AWS. You configure access the same way that you get access to Amazon Q in the AWS Management Console. For more information, see Setting up Amazon Q Developer. Scan your code for security vulnerabilities 5 Amazon Q Developer User Guide Setting up Amazon Q Developer This section relates to setting up Amazon Q Developer as an administrator for your organization. To start using Amazon Q Developer as an non-administrative user, see the following topics: Add permissions for Amazon Q on AWS apps and websites Install the Amazon Q extension in your IDE Set up AWS coding environments for inline suggestions For administrators setting up Amazon Q Developer, complete the topics in this chapter. Topics Account, IAM Identity Center, and Organization setup Understanding tiers of service for Amazon Q Developer Subscriptions i Note In the AWS Management Console, AWS Console Mobile Application, AWS website, and AWS Documentation website, the Amazon Q icon appears regardless of whether Amazon Q is enabled. If a user, group, or role has the AdministratorAccess policy attached, Amazon Q is enabled. For information about how to manage access to Amazon Q, see Manage access to Amazon Q Developer with policies. Account, IAM Identity Center, and Organization setup Step 1: Setting up your AWS account Sign up for an AWS account If you do not have an AWS account, complete the following steps to create one. Prerequisites 6 Amazon Q Developer User Guide To sign up for an AWS account 1. Open https://portal.aws.amazon.com/billing/signup 2. Follow the online instructions. Part of the sign-up procedure involves receiving a phone call and entering a verification code on the phone keypad. When you sign up for an AWS account, an AWS account root user is created. The root user has access to all AWS services and resources in the account. As a security best practice, assign administrative access to a user, and use only the root user to perform tasks that require root user access. AWS sends you a confirmation email after the sign-up process is complete. At any time, you can view your current account activity and manage your account by going to https://aws.amazon.com/ and choosing My Account.'},\n",
       "  'location': {'type': 'S3',\n",
       "   's3Location': {'uri': 's3://bedrock-kb-us-west-2-734389953405/extracted_text.txt'}},\n",
       "  'score': 0.63655925},\n",
       " {'content': {'text': \"As a security best practice, assign administrative access to a user, and use only the root user to perform tasks that require root user access. AWS sends you a confirmation email after the sign-up process is complete. At any time, you can view your current account activity and manage your account by going to https://aws.amazon.com/ and choosing My Account. Create a user with administrative access After you sign up for an AWS account, secure your AWS account root user, enable AWS IAM Identity Center, and create an administrative user so that you don't use the root user for everyday tasks. Secure your AWS account root user 1. Sign in to the AWS Management Console as the account owner by choosing Root user and entering your AWS account email address. On the next page, enter your password. For help signing in by using root user, see Signing in as the root user in the AWS Sign-In User Guide. 2. Turn on multi-factor authentication (MFA) for your root user. For instructions, see Enable a virtual MFA device for your AWS account root user (console) in the IAM User Guide. Create a user with administrative access 1. Enable IAM Identity Center. Step 1: Setting up your AWS account 7 Amazon Q Developer User Guide For instructions, see Enabling AWS IAM Identity Center in the AWS IAM Identity Center User Guide. 2. In IAM Identity Center, grant administrative access to a user. For a tutorial about using the IAM Identity Center directory as your identity source, see Configure user access with the default IAM Identity Center directory in the AWS IAM Identity Center User Guide. Sign in as the user with administrative access To sign in with your IAM Identity Center user, use the sign-in URL that was sent to your email address when you created the IAM Identity Center user. For help signing in using an IAM Identity Center user, see Signing in to the AWS access portal in the AWS Sign-In User Guide. Assign access to additional users 1. In IAM Identity Center, create a permission set that follows the best practice of applying least- privilege permissions. For instructions, see Create a permission set in the AWS IAM Identity Center User Guide. 2. Assign users to a group, and then assign single sign-on access to the group.\"},\n",
       "  'location': {'type': 'S3',\n",
       "   's3Location': {'uri': 's3://bedrock-kb-us-west-2-734389953405/extracted_text.txt'}},\n",
       "  'score': 0.4865581},\n",
       " {'content': {'text': 'Assign access to additional users 1. In IAM Identity Center, create a permission set that follows the best practice of applying least- privilege permissions. For instructions, see Create a permission set in the AWS IAM Identity Center User Guide. 2. Assign users to a group, and then assign single sign-on access to the group. For instructions, see Add groups in the AWS IAM Identity Center User Guide. Step 2: Setting up AWS Organizations Organizations is an account management service that enables you to consolidate multiple AWS accounts into an organization that you create and centrally manage. For more information, refer to What is AWS Organizations in The AWS Organizations User Guide. Step 3: Setting up IAM Identity Center with Amazon Q Developer Pro In order to use Amazon Q Developer Pro, you must use IAM Identity Center. IAM Identity Center is the recommended AWS service for managing human user access to AWS resources. It is through Step 2: Setting up AWS Organizations 8'},\n",
       "  'location': {'type': 'S3',\n",
       "   's3Location': {'uri': 's3://bedrock-kb-us-west-2-734389953405/extracted_text.txt'}},\n",
       "  'score': 0.47250557}]"
      ]
     },
     "execution_count": 245,
     "metadata": {},
     "output_type": "execute_result"
    }
   ],
   "source": [
    "retrievalResults_1"
   ]
  },
  {
   "cell_type": "markdown",
   "id": "e0ae7aae",
   "metadata": {},
   "source": [
    "## RAG fusion"
   ]
  },
  {
   "cell_type": "code",
   "execution_count": 246,
   "id": "0f0734dc",
   "metadata": {},
   "outputs": [],
   "source": [
    "def reciprocal_rank_fusion(*ranked_lists, k=60):\n",
    "    scores = {}\n",
    "    for ranked_list in ranked_lists:\n",
    "        for rank, result in enumerate(ranked_list, start=1):\n",
    "            doc = result['content']['text']\n",
    "            scores[doc] = scores.get(doc, 0) + 1 / (rank + k)\n",
    "    sorted_docs = sorted(scores.items(), key=lambda x: x[1], reverse=True)\n",
    "    return [doc for doc, score in sorted_docs]\n"
   ]
  },
  {
   "cell_type": "code",
   "execution_count": 247,
   "id": "f6265fe5",
   "metadata": {},
   "outputs": [],
   "source": [
    "fused_results = reciprocal_rank_fusion(retrievalResults_1, retrievalResults_2)"
   ]
  },
  {
   "cell_type": "code",
   "execution_count": 248,
   "id": "ef3987cf",
   "metadata": {},
   "outputs": [],
   "source": [
    "def augment_query(query, documents):\n",
    "    fused_context = \" \".join(documents)\n",
    "    augmented_query = f\"{query} Context: {fused_context}\"\n",
    "    return augmented_query"
   ]
  },
  {
   "cell_type": "code",
   "execution_count": 249,
   "id": "58f413d8",
   "metadata": {},
   "outputs": [],
   "source": [
    "augmented_query = augment_query(query, fused_results)"
   ]
  },
  {
   "cell_type": "code",
   "execution_count": 250,
   "id": "d194686a",
   "metadata": {},
   "outputs": [
    {
     "data": {
      "text/plain": [
       "\"what are Key features of Amazon Q Developer? Context: Amazon Q Developer User Guide What is Amazon Q Developer? Note Powered by Amazon Bedrock: AWS implements automated abuse detection. Because Amazon Q Developer is built on Amazon Bedrock, users can take full advantage of the controls implemented in Amazon Bedrock to enforce safety, security, and the responsible use of artificial intelligence (AI). Amazon Q Developer is a generative artificial intelligence (AI) powered conversational assistant that can help you understand, build, extend, and operate AWS applications. You can ask questions about AWS architecture, your AWS resources, best practices, documentation, support, and more. Amazon Q is constantly updating its capabilities so your questions get the most contextually relevant and actionable answers. When used in an integrated development environment (IDE), Amazon Q provides software development assistance. Amazon Q can chat about code, provide inline code completions, generate net new code, scan your code for security vulnerabilities, and make code upgrades and improvements, such as language updates, debugging, and optimizations. Amazon Q is powered by Amazon Bedrock, a fully managed service that makes foundation models (FMs) available through an API. The model that powers Amazon Q has been augmented with high quality AWS content to get you more complete, actionable, and referenced answers to accelerate your building on AWS. Note This is the documentation for Amazon Q Developer. If you are looking for documentation for Amazon Q Business, see the Amazon Q Business User Guide. Key features of Amazon Q Developer Amazon Q Developer includes the following capabilities: Chat - Amazon Q answers natural language questions in English about AWS, including questions about AWS service selection, AWS Command Line Interface (AWS CLI) usage, documentation, Key features of Amazon Q 1 Amazon Q Developer User Guide best practices, and your AWS resources. Amazon Q responds with information summaries or step-by-step instructions, and includes links to its information sources. Conversation memory - Amazon Q uses the context of your conversation to inform future responses for the duration of your conversation. Code improvements and advice - Within IDEs, Amazon Q can answer questions about software development, improve your code, and generate new code. Code completion - As you write code, Amazon Q automatically generates suggestions, in real time, based on your existing code and comments. Troubleshoot and support - Amazon Q can help you understand errors in the AWS Management Console and provides access to live AWS Support agents to address your AWS questions and issues. Amazon Q Developer\\nUser Guide\\nWhat is Amazon Q Developer?\\nNote\\nPowered by Amazon Bedrock: AWS implements automated abuse detection. Because\\nAmazon Q Developer is built on Amazon Bedrock, users can take full advantage of the\\ncontrols implemented in Amazon Bedrock to enforce safety, security, and the responsible\\nuse of artificial intelligence (AI).\\nAmazon Q Developer is a generative artificial intelligence (AI) powered conversational assistant Code improvements and advice - Within IDEs, Amazon Q can answer questions about software development, improve your code, and generate new code. Code completion - As you write code, Amazon Q automatically generates suggestions, in real time, based on your existing code and comments. Troubleshoot and support - Amazon Q can help you understand errors in the AWS Management Console and provides access to live AWS Support agents to address your AWS questions and issues. For more information about these and other Amazon Q features, see Amazon Q Developer features. Get started with Amazon Q Developer To quickly get started using Amazon Q, you can access it in the following ways: AWS apps and websites Add the necessary permissions to your IAM identity, and then choose the Amazon Q icon to start chatting in the AWS Management Console, AWS Documentation website, AWS website, or AWS Console Mobile Application. For more information, see Amazon Q Developer on AWS apps and websites. IDEs Download the Amazon Q extension and use your AWS Builder ID (no AWS account required) to sign in for free. Download Amazon Q in Visual Studio Code Get started 2 Amazon Q Developer User Guide Get answers in context to your conversation Amazon Q uses the context of your current conversation to inform its responses. You can ask follow-up questions or refer to its response when you ask a new question. Diagnose common console errors With Amazon Q, you can diagnose console error messages directly in the AWS Management Console. Amazon Q provides information about the error and an overview of a potential solution. For more information, see Diagnose common errors in the console with Amazon Q Developer. Develop software After you explain, in natural language, the feature that you want to develop, Amazon Q can use the context of your current project to generate an implementation plan and the accompanying code. Amazon Q can help you build AWS projects or your own applications. For more information, see Develop software with the Amazon Q Developer Agent for software development. Chat about code Within integrated development environments (IDEs), Amazon Q can answer questions related to the software development process, including conceptual questions about programming and how specific code works. You can also ask Amazon Q to update and improve code snippets from the chat panel. For more information, see Chat with Amazon Q Developer about code. Get inline code suggestions Amazon Q provides you with code recommendations in real time. use of artificial intelligence (AI).\\nAmazon Q Developer is a generative artificial intelligence (AI) powered conversational assistant\\nthat can help you understand, build, extend, and operate AWS applications. You can ask questions\\nabout AWS architecture, your AWS resources, best practices, documentation, support, and more.\\nAmazon Q is constantly updating its capabilities so your questions get the most contextually\\nrelevant and actionable answers. You can also ask Amazon Q to update and improve code snippets from the chat panel. For more information, see Chat with Amazon Q Developer about code. Get inline code suggestions Amazon Q provides you with code recommendations in real time. As you write code, Amazon Q automatically generates suggestions based on your existing code and comments. For more information, see Get inline suggestions with Amazon Q. Transform code Within IDEs, Amazon Q can update the language version of your code files. Currently, Amazon Q Code Transformation supports updating Java 8 and Java 11 code to Java 17. For more information, see Upgrade language versions with the Amazon Q Developer Agent for Code Transformation. Get answers in context to your conversation 4 Amazon Q Developer User Guide Scan your code for security vulnerabilities Within IDEs, Amazon Q scans your code for security vulnerabilities and code quality issues. You can get security recommendations as you code or scan entire projects to monitor the security posture of your applications throughout development. For more information, see Scan your code with Amazon Q. Contact AWS Support You can create AWS Support cases and chat with a live support agent within Amazon Q to address issues you're having with AWS services. You can access AWS Support with Amazon Q in the AWS Management Console. For more information, see Use Amazon Q Developer to chat with AWS Support. Use Amazon Q in AWS Chatbot You can add Amazon Q to your Slack and Microsoft Teams channels that are configured with AWS Chatbot. Amazon Q in AWS Chatbot can answer questions about building at AWS, including those about best practices for building solutions, troubleshooting issues, and identifying next steps. For more information, see Chat with Amazon Q Developer in AWS Chatbot. Use Amazon Q in the AWS Console Mobile Application Amazon Q is integrated with the AWS Console Mobile Application to answer questions about AWS. You configure access the same way that you get access to Amazon Q in the AWS Management Console. For more information, see Setting up Amazon Q Developer. Scan your code for security vulnerabilities 5 Amazon Q Developer User Guide Setting up Amazon Q Developer This section relates to setting up Amazon Q Developer as an administrator for your organization. Amazon Q is constantly updating its capabilities so your questions get the most contextually\\nrelevant and actionable answers.\\nWhen used in an integrated development environment (IDE), Amazon Q provides software\\ndevelopment assistance. Amazon Q can chat about code, provide inline code completions,\\ngenerate net new code, scan your code for security vulnerabilities, and make code upgrades and\\nimprovements, such as language updates, debugging, and optimizations. Use Amazon Q in the AWS Console Mobile Application Amazon Q is integrated with the AWS Console Mobile Application to answer questions about AWS. You configure access the same way that you get access to Amazon Q in the AWS Management Console. For more information, see Setting up Amazon Q Developer. Scan your code for security vulnerabilities 5 Amazon Q Developer User Guide Setting up Amazon Q Developer This section relates to setting up Amazon Q Developer as an administrator for your organization. To start using Amazon Q Developer as an non-administrative user, see the following topics: Add permissions for Amazon Q on AWS apps and websites Install the Amazon Q extension in your IDE Set up AWS coding environments for inline suggestions For administrators setting up Amazon Q Developer, complete the topics in this chapter. Topics Account, IAM Identity Center, and Organization setup Understanding tiers of service for Amazon Q Developer Subscriptions i Note In the AWS Management Console, AWS Console Mobile Application, AWS website, and AWS Documentation website, the Amazon Q icon appears regardless of whether Amazon Q is enabled. If a user, group, or role has the AdministratorAccess policy attached, Amazon Q is enabled. For information about how to manage access to Amazon Q, see Manage access to Amazon Q Developer with policies. Account, IAM Identity Center, and Organization setup Step 1: Setting up your AWS account Sign up for an AWS account If you do not have an AWS account, complete the following steps to create one. Prerequisites 6 Amazon Q Developer User Guide To sign up for an AWS account 1. Open https://portal.aws.amazon.com/billing/signup 2. Follow the online instructions. Part of the sign-up procedure involves receiving a phone call and entering a verification code on the phone keypad. When you sign up for an AWS account, an AWS account root user is created. The root user has access to all AWS services and resources in the account. As a security best practice, assign administrative access to a user, and use only the root user to perform tasks that require root user access. AWS sends you a confirmation email after the sign-up process is complete. At any time, you can view your current account activity and manage your account by going to https://aws.amazon.com/ and choosing My Account. your building on AWS.\\nNote\\nThis is the documentation for Amazon Q Developer. If you are looking for documentation\\nfor Amazon Q Business, see the Amazon Q Business User Guide.\\nKey features of Amazon Q Developer\\nAmazon Q Developer includes the following capabilities:\\nChat - Amazon Q answers natural language questions in English about AWS, including questions\\nabout AWS service selection, AWS Command Line Interface (AWS CLI) usage, documentation,\\nKey features of Amazon Q\\n1\\nAmazon Q Developer As a security best practice, assign administrative access to a user, and use only the root user to perform tasks that require root user access. AWS sends you a confirmation email after the sign-up process is complete. At any time, you can view your current account activity and manage your account by going to https://aws.amazon.com/ and choosing My Account. Create a user with administrative access After you sign up for an AWS account, secure your AWS account root user, enable AWS IAM Identity Center, and create an administrative user so that you don't use the root user for everyday tasks. Secure your AWS account root user 1. Sign in to the AWS Management Console as the account owner by choosing Root user and entering your AWS account email address. On the next page, enter your password. For help signing in by using root user, see Signing in as the root user in the AWS Sign-In User Guide. 2. Turn on multi-factor authentication (MFA) for your root user. For instructions, see Enable a virtual MFA device for your AWS account root user (console) in the IAM User Guide. Create a user with administrative access 1. Enable IAM Identity Center. Step 1: Setting up your AWS account 7 Amazon Q Developer User Guide For instructions, see Enabling AWS IAM Identity Center in the AWS IAM Identity Center User Guide. 2. In IAM Identity Center, grant administrative access to a user. For a tutorial about using the IAM Identity Center directory as your identity source, see Configure user access with the default IAM Identity Center directory in the AWS IAM Identity Center User Guide. Sign in as the user with administrative access To sign in with your IAM Identity Center user, use the sign-in URL that was sent to your email address when you created the IAM Identity Center user. For help signing in using an IAM Identity Center user, see Signing in to the AWS access portal in the AWS Sign-In User Guide. Assign access to additional users 1. In IAM Identity Center, create a permission set that follows the best practice of applying least- privilege permissions. For instructions, see Create a permission set in the AWS IAM Identity Center User Guide. 2. Assign users to a group, and then assign single sign-on access to the group. improvements, such as language updates, debugging, and optimizations.\\nAmazon Q is powered by Amazon Bedrock, a fully managed service that makes foundation models\\n(FMs) available through an API. The model that powers Amazon Q has been augmented with high\\nquality AWS content to get you more complete, actionable, and referenced answers to accelerate\\nyour building on AWS.\\nNote\\nThis is the documentation for Amazon Q Developer. If you are looking for documentation Assign access to additional users 1. In IAM Identity Center, create a permission set that follows the best practice of applying least- privilege permissions. For instructions, see Create a permission set in the AWS IAM Identity Center User Guide. 2. Assign users to a group, and then assign single sign-on access to the group. For instructions, see Add groups in the AWS IAM Identity Center User Guide. Step 2: Setting up AWS Organizations Organizations is an account management service that enables you to consolidate multiple AWS accounts into an organization that you create and centrally manage. For more information, refer to What is AWS Organizations in The AWS Organizations User Guide. Step 3: Setting up IAM Identity Center with Amazon Q Developer Pro In order to use Amazon Q Developer Pro, you must use IAM Identity Center. IAM Identity Center is the recommended AWS service for managing human user access to AWS resources. It is through Step 2: Setting up AWS Organizations 8 Conversation memory - Amazon Q uses the context of your conversation to inform future\\nresponses for the duration of your conversation.\\nCode improvements and advice - Within IDEs, Amazon Q can answer questions about software\\ndevelopment, improve your code, and generate new code.\\nCode completion - As you write code, Amazon Q automatically generates suggestions, in real\\ntime, based on your existing code and comments. Code completion - As you write code, Amazon Q automatically generates suggestions, in real\\ntime, based on your existing code and comments.\\nTroubleshoot and support - Amazon Q can help you understand errors in the AWS Management\\nConsole and provides access to live AWS Support agents to address your AWS questions and\\nissues.\\nFor more information about these and other Amazon Q features, see Amazon Q Developer\\nfeatures.\\nGet started with Amazon Q Developer Develop software\\nAfter you explain, in natural language, the feature that you want to develop, Amazon Q can use the\\ncontext of your current project to generate an implementation plan and the accompanying code.\\nAmazon Q can help you build AWS projects or your own applications. For more information, see\\nDevelop software with the Amazon Q Developer Agent for software development.\\nChat about code\\nWithin integrated development environments (IDEs), Amazon Q can answer questions related to more information, see Chat with Amazon Q Developer in AWS Chatbot.\\nUse Amazon Q in the AWS Console Mobile Application\\nAmazon Q is integrated with the AWS Console Mobile Application to answer questions about AWS.\\nYou configure access the same way that you get access to Amazon Q in the AWS Management\\nConsole. For more information, see Setting up Amazon Q Developer.\\nScan your code for security vulnerabilities\\n5\\nAmazon Q Developer\\nUser Guide\\nSetting up Amazon Q Developer issues.\\nFor more information about these and other Amazon Q features, see Amazon Q Developer\\nfeatures.\\nGet started with Amazon Q Developer\\nTo quickly get started using Amazon Q, you can access it in the following ways:\\nAWS apps and websites\\nAdd the necessary permissions to your IAM identity, and then choose the Amazon Q icon to\\nstart chatting in the AWS Management Console, AWS Documentation website, AWS website, or\""
      ]
     },
     "execution_count": 250,
     "metadata": {},
     "output_type": "execute_result"
    }
   ],
   "source": [
    "augmented_query"
   ]
  },
  {
   "cell_type": "markdown",
   "id": "df113abc",
   "metadata": {},
   "source": [
    "# LLM call"
   ]
  },
  {
   "cell_type": "code",
   "execution_count": 171,
   "id": "d91849d4",
   "metadata": {},
   "outputs": [],
   "source": [
    "prompt = f\"\"\"\n",
    "Human: You are a machine learning engineer AI system, providing answers to questions using fact-based and statistical information when possible. Use the following pieces of documentation to provide a concise answer to the question enclosed in <question> tags. If you don't know the answer, just say that you don't know, and do not attempt to make up an answer.\n",
    "<context>\n",
    "{contexts}\n",
    "</context>\n",
    "\n",
    "<question>\n",
    "{query}\n",
    "</question>\n",
    "\n",
    "The response should be specific and use statistics or numbers when possible.\n",
    "\n",
    "Assistant:\"\"\""
   ]
  },
  {
   "cell_type": "code",
   "execution_count": 172,
   "id": "c0b11a52",
   "metadata": {},
   "outputs": [],
   "source": [
    "# payload with model paramters\n",
    "messages=[{ \"role\":'user', \"content\":[{'type':'text','text': prompt.format(augmented_query, query)}]}]\n",
    "sonnet_payload = json.dumps({\n",
    "    \"anthropic_version\": \"bedrock-2023-05-31\",\n",
    "    \"max_tokens\": 2000,\n",
    "    \"messages\": messages,\n",
    "    \"temperature\": 0.5,\n",
    "    \"top_p\": 1\n",
    "        }  )\n"
   ]
  },
  {
   "cell_type": "code",
   "execution_count": 173,
   "id": "fd860a55",
   "metadata": {},
   "outputs": [
    {
     "name": "stdout",
     "output_type": "stream",
     "text": [
      "('Yes, Amazon Q can scan your code for security vulnerabilities. According to '\n",
      " 'the provided documentation, within IDEs, Amazon Q scans your code for '\n",
      " 'security vulnerabilities and code quality issues. You can get security '\n",
      " 'recommendations as you code or scan entire projects to monitor the security '\n",
      " 'posture of your applications throughout development. For more information, '\n",
      " 'the documentation suggests seeing the section \"Scan your code with Amazon '\n",
      " 'Q.\"')\n"
     ]
    }
   ],
   "source": [
    "modelId = 'anthropic.claude-3-opus-20240229-v1:0' # change this to use a different version from the model provider\n",
    "accept = 'application/json'\n",
    "contentType = 'application/json'\n",
    "response = bedrock_client.invoke_model(body=sonnet_payload, modelId=modelId, accept=accept, contentType=contentType)\n",
    "response_body = json.loads(response.get('body').read())\n",
    "response_text = response_body.get('content')[0]['text']\n",
    "\n",
    "pp.pprint(response_text)"
   ]
  },
  {
   "cell_type": "code",
   "execution_count": 149,
   "id": "95e8a25c",
   "metadata": {},
   "outputs": [
    {
     "name": "stdout",
     "output_type": "stream",
     "text": [
      "('Yes, you can scan your code for security vulnerabilities using Amazon Q. '\n",
      " 'According to the documentation:\\n'\n",
      " '\\n'\n",
      " '\"Within IDEs, Amazon Q scans your code for security vulnerabilities and code '\n",
      " 'quality issues. You can get security recommendations as you code or scan '\n",
      " 'entire projects to monitor the security posture of your applications '\n",
      " 'throughout development.\"\\n'\n",
      " '\\n'\n",
      " 'So Amazon Q provides real-time security scanning as you write code in your '\n",
      " 'IDE, as well as the ability to scan entire projects to identify '\n",
      " 'vulnerabilities. This allows you to proactively find and fix security issues '\n",
      " 'during the development process.')\n"
     ]
    }
   ],
   "source": [
    "modelId = 'anthropic.claude-3-opus-20240229-v1:0' # change this to use a different version from the model provider\n",
    "accept = 'application/json'\n",
    "contentType = 'application/json'\n",
    "response = bedrock_client.invoke_model(body=sonnet_payload, modelId=modelId, accept=accept, contentType=contentType)\n",
    "response_body = json.loads(response.get('body').read())\n",
    "response_text = response_body.get('content')[0]['text']\n",
    "\n",
    "pp.pprint(response_text)"
   ]
  },
  {
   "cell_type": "markdown",
   "id": "ced58029",
   "metadata": {},
   "source": [
    "# Agent "
   ]
  },
  {
   "cell_type": "code",
   "execution_count": 252,
   "id": "6a596f7d",
   "metadata": {},
   "outputs": [
    {
     "name": "stdout",
     "output_type": "stream",
     "text": [
      "Based on the provided Amazon Q Developer User Guide excerpt, the main topic is the key features of Amazon Q Developer.\n",
      "\n",
      "The key features of Amazon Q Developer include:\n",
      "\n",
      "1. Chat - Amazon Q can answer natural language questions about AWS services, best practices, documentation, the AWS CLI, and more. It provides summaries, instructions, and links to information sources.\n",
      "\n",
      "2. Conversation memory - Amazon Q uses the context of the current conversation to inform future responses during that conversation. \n",
      "\n",
      "3. Code improvements and advice - Within IDEs, Amazon Q can answer software development questions, improve existing code, and generate new code.\n",
      "\n",
      "4. Code completion - Amazon Q provides real-time code suggestions based on the developer's current code and comments as they write code in the IDE.\n",
      "\n",
      "5. Troubleshooting and support - Amazon Q can help diagnose errors in the AWS Management Console and connect users with live AWS Support agents to address questions and issues.\n",
      "\n",
      "In summary, the key features are:\n",
      "1) Natural language Q&A about AWS \n",
      "2) Conversational context memory\n",
      "3) Code assistance - improvements, advice, completion\n",
      "4) Troubleshooting and live support integration\n",
      "\n",
      "These capabilities allow Amazon Q to serve as an AI-powered assistant to help developers understand, build, and operate applications on AWS.\n"
     ]
    }
   ],
   "source": [
    "from langchain_community.embeddings import BedrockEmbeddings\n",
    "from langchain_community.chat_models import BedrockChat\n",
    "from langchain.prompts import PromptTemplate\n",
    "from langchain.chains import LLMChain, SimpleSequentialChain\n",
    "import boto3\n",
    "\n",
    "# Initialize Bedrock client and model\n",
    "bedrock = boto3.client(service_name=\"bedrock-runtime\")\n",
    "llm = BedrockChat(model_id=\"anthropic.claude-3-opus-20240229-v1:0\", client=bedrock, model_kwargs={\"max_tokens\": 1000})\n",
    "\n",
    "# Define a prompt template for the whole chain\n",
    "combined_prompt = PromptTemplate(input_variables=[\"combined_input\"], template=\"\"\"\n",
    "Query and Context: {combined_input}\n",
    "Step 1: Based on the provided context, identify the main topic. If the context is insufficient, state 'I don't know'.\n",
    "Step 2: Generate a detailed explanation for the identified topic. If the context is insufficient, state 'I don't know'.\n",
    "Step 3: Summarize the key points from the detailed explanation. If the context is insufficient, state 'I don't know'.\n",
    "\"\"\")\n",
    "\n",
    "# Create a single chain that handles all steps\n",
    "chain = LLMChain(llm=llm, prompt=combined_prompt)\n",
    "\n",
    "# Function to run the chain of thought reasoning\n",
    "def run_chain_of_thought(query, context):\n",
    "    combined_input = f\"Query: {query}. Context: {context}\"\n",
    "    result = chain.run({\"combined_input\": combined_input})\n",
    "    return result\n",
    "\n",
    "# Example usage\n",
    "query = query\n",
    "context =augmented_query\n",
    "\n",
    "# Run chain of thought\n",
    "result = run_chain_of_thought(query, context)\n",
    "print(result)\n"
   ]
  },
  {
   "cell_type": "code",
   "execution_count": 265,
   "id": "f042143d",
   "metadata": {},
   "outputs": [
    {
     "name": "stdout",
     "output_type": "stream",
     "text": [
      "Based on the details provided, the key points about the features of Amazon Q Developer are:\n",
      "\n",
      "- It is a generative AI-powered conversational assistant that can help understand, build, extend, and operate AWS applications by answering questions about AWS architecture, resources, best practices, documentation, and support.\n",
      "\n",
      "- Key capabilities include:\n",
      "    - Chat - Answers natural language questions about AWS \n",
      "    - Conversation memory - Uses context of conversation to inform future responses\n",
      "    - Code improvements and advice - Can answer questions about software development and improve/generate code within IDEs\n",
      "    - Code completion - Automatically generates real-time code suggestions based on existing code and comments\n",
      "    - Troubleshooting and support - Helps understand errors in AWS console and provides access to live AWS support\n",
      "\n",
      "- Within IDEs it can chat about code, provide inline code suggestions, generate new code, scan for security vulnerabilities, and upgrade code language versions.\n",
      "\n",
      "- It is powered by Amazon Bedrock foundation models and augmented with high quality AWS content to provide actionable, referenced answers.\n",
      "\n",
      "- Users can quickly get started using it in AWS websites/apps, IDEs, the AWS mobile app, and via AWS Chatbot in Slack/Teams.\n"
     ]
    }
   ],
   "source": [
    "from langchain_community.embeddings import BedrockEmbeddings\n",
    "from langchain_community.chat_models import BedrockChat\n",
    "from langchain.prompts import PromptTemplate\n",
    "from langchain.chains import LLMChain\n",
    "import boto3\n",
    "\n",
    "# Initialize Bedrock client and model\n",
    "bedrock = boto3.client(service_name=\"bedrock-runtime\")\n",
    "llm = BedrockChat(model_id=\"anthropic.claude-3-opus-20240229-v1:0\", client=bedrock, model_kwargs={\"max_tokens\": 1000})\n",
    "\n",
    "# Define generic prompt templates for different branches\n",
    "identify_topic_prompt = PromptTemplate(\n",
    "    input_variables=[\"context\"], \n",
    "    template=\"Step 1: Based on the provided context, identify the main topic. If the context is insufficient, state 'I don't know'.\\nContext: {context}\"\n",
    ")\n",
    "\n",
    "detailed_explanation_prompt = PromptTemplate(\n",
    "    input_variables=[\"topic\", \"context\"], \n",
    "    template=\"Step 2a: Provide a detailed explanation for the identified topic: {topic}. Context: {context}. If the context is insufficient, state 'I don't know'.\"\n",
    ")\n",
    "\n",
    "polished_language_prompt = PromptTemplate(\n",
    "    input_variables=[\"topic\", \"context\"], \n",
    "    template=\"Step 2b: Provide a polished explanation for the identified topic: {topic}. Context: {context}. If the context is insufficient, state 'I don't know'.\"\n",
    ")\n",
    "\n",
    "summarize_prompt = PromptTemplate(\n",
    "    input_variables=[\"detail\", \"context\"], \n",
    "    template=\"Step 3: Summarize the key points from the detail provided: {detail}. Context: {context}. If the context is insufficient, state 'I don't know'.\"\n",
    ")\n",
    "\n",
    "evaluate_prompt = PromptTemplate(\n",
    "    input_variables=[\"query\", \"context\", \"result1\", \"result2\"],\n",
    "    template=\"Given the query '{query}' and context '{context}', evaluate which of the two results is better:\\nResult 1: {result1}\\nResult 2: {result2}\\nSelect the better result. Do not select 'I don't know' responses.\"\n",
    ")\n",
    "\n",
    "# Create chains for each step\n",
    "identify_topic_chain = LLMChain(llm=llm, prompt=identify_topic_prompt)\n",
    "detailed_explanation_chain = LLMChain(llm=llm, prompt=detailed_explanation_prompt)\n",
    "polished_language_chain = LLMChain(llm=llm, prompt=polished_language_prompt)\n",
    "summarize_chain = LLMChain(llm=llm, prompt=summarize_prompt)\n",
    "evaluate_chain = LLMChain(llm=llm, prompt=evaluate_prompt)\n",
    "\n",
    "# Function to evaluate results\n",
    "def evaluate_results(query, context, result1, result2):\n",
    "    #print(f\"Evaluating results: \\nResult 1: {result1}\\nResult 2: {result2}\\n\")\n",
    "    evaluation_result = evaluate_chain.run({\n",
    "        \"query\": query,\n",
    "        \"context\": context,\n",
    "        \"result1\": result1,\n",
    "        \"result2\": result2\n",
    "    })\n",
    "    #print(f\"Evaluation result: {evaluation_result}\\n\")\n",
    "    return evaluation_result\n",
    "\n",
    "# Function to run the tree of thought reasoning\n",
    "def run_tree_of_thought(query, context):\n",
    "    # Step 1: Identify the main topic\n",
    "    topic_result = identify_topic_chain.run({\"context\": context})\n",
    "    #print(f\"Topic Result: {topic_result}\\n\")\n",
    "    \n",
    "    # Step 2a: Provide a detailed explanation\n",
    "    detailed_explanation_result = detailed_explanation_chain.run({\"topic\": topic_result, \"context\": context})\n",
    "    #print(f\"Detailed Explanation Result: {detailed_explanation_result}\\n\")\n",
    "    \n",
    "    # Step 2b: Provide a polished explanation\n",
    "    polished_language_result = polished_language_chain.run({\"topic\": topic_result, \"context\": context})\n",
    "    #print(f\"Polished Language Result: {polished_language_result}\\n\")\n",
    "    \n",
    "    # Ensure we don't use \"I don't know\" responses\n",
    "    if \"I don't know\" in detailed_explanation_result:\n",
    "        best_result = polished_language_result\n",
    "    elif \"I don't know\" in polished_language_result:\n",
    "        best_result = detailed_explanation_result\n",
    "    else:\n",
    "        # Evaluate which detail is better\n",
    "        best_result = evaluate_results(query, context, detailed_explanation_result, polished_language_result)\n",
    "    \n",
    "    #print(f\"Best Result: {best_result}\\n\")\n",
    "    \n",
    "    # Step 3: Summarize the best detail\n",
    "    summary_result = summarize_chain.run({\"detail\": best_result, \"context\": context})\n",
    "    #print(f\"Summary Result: {summary_result}\\n\")\n",
    "    \n",
    "    return summary_result\n",
    "\n",
    "# Example usage\n",
    "query = query\n",
    "context = augmented_query\n",
    "\n",
    "# Run tree of thought with dynamic variables\n",
    "result = run_tree_of_thought(query, context)\n",
    "print(result)\n"
   ]
  },
  {
   "cell_type": "markdown",
   "id": "e5f4c69e",
   "metadata": {},
   "source": [
    "# Clean Up Script"
   ]
  },
  {
   "cell_type": "code",
   "execution_count": 266,
   "id": "e880b3ce",
   "metadata": {},
   "outputs": [],
   "source": [
    "bedrock_agent_client = boto3_session.client('bedrock-agent', region_name=region_name)"
   ]
  },
  {
   "cell_type": "code",
   "execution_count": 267,
   "id": "ada3a439",
   "metadata": {},
   "outputs": [
    {
     "ename": "ResourceNotFoundException",
     "evalue": "An error occurred (ResourceNotFoundException) when calling the DeleteDataSource operation: DataSource with id 6C5PDW6EY2 is not found.",
     "output_type": "error",
     "traceback": [
      "\u001b[0;31m---------------------------------------------------------------------------\u001b[0m",
      "\u001b[0;31mResourceNotFoundException\u001b[0m                 Traceback (most recent call last)",
      "Cell \u001b[0;32mIn[267], line 1\u001b[0m\n\u001b[0;32m----> 1\u001b[0m \u001b[43mbedrock_agent_client\u001b[49m\u001b[38;5;241;43m.\u001b[39;49m\u001b[43mdelete_data_source\u001b[49m\u001b[43m(\u001b[49m\u001b[43mdataSourceId\u001b[49m\u001b[43m \u001b[49m\u001b[38;5;241;43m=\u001b[39;49m\u001b[43m \u001b[49m\u001b[43mds\u001b[49m\u001b[43m[\u001b[49m\u001b[38;5;124;43m\"\u001b[39;49m\u001b[38;5;124;43mdataSourceId\u001b[39;49m\u001b[38;5;124;43m\"\u001b[39;49m\u001b[43m]\u001b[49m\u001b[43m,\u001b[49m\u001b[43m \u001b[49m\u001b[43mknowledgeBaseId\u001b[49m\u001b[38;5;241;43m=\u001b[39;49m\u001b[43mkb\u001b[49m\u001b[43m[\u001b[49m\u001b[38;5;124;43m'\u001b[39;49m\u001b[38;5;124;43mknowledgeBaseId\u001b[39;49m\u001b[38;5;124;43m'\u001b[39;49m\u001b[43m]\u001b[49m\u001b[43m)\u001b[49m\n\u001b[1;32m      2\u001b[0m bedrock_agent_client\u001b[38;5;241m.\u001b[39mdelete_knowledge_base(knowledgeBaseId\u001b[38;5;241m=\u001b[39mkb[\u001b[38;5;124m'\u001b[39m\u001b[38;5;124mknowledgeBaseId\u001b[39m\u001b[38;5;124m'\u001b[39m])\n\u001b[1;32m      3\u001b[0m oss_client\u001b[38;5;241m.\u001b[39mindices\u001b[38;5;241m.\u001b[39mdelete(index\u001b[38;5;241m=\u001b[39mindex_name)\n",
      "File \u001b[0;32m~/anaconda3/envs/python3/lib/python3.10/site-packages/botocore/client.py:553\u001b[0m, in \u001b[0;36mClientCreator._create_api_method.<locals>._api_call\u001b[0;34m(self, *args, **kwargs)\u001b[0m\n\u001b[1;32m    549\u001b[0m     \u001b[38;5;28;01mraise\u001b[39;00m \u001b[38;5;167;01mTypeError\u001b[39;00m(\n\u001b[1;32m    550\u001b[0m         \u001b[38;5;124mf\u001b[39m\u001b[38;5;124m\"\u001b[39m\u001b[38;5;132;01m{\u001b[39;00mpy_operation_name\u001b[38;5;132;01m}\u001b[39;00m\u001b[38;5;124m() only accepts keyword arguments.\u001b[39m\u001b[38;5;124m\"\u001b[39m\n\u001b[1;32m    551\u001b[0m     )\n\u001b[1;32m    552\u001b[0m \u001b[38;5;66;03m# The \"self\" in this scope is referring to the BaseClient.\u001b[39;00m\n\u001b[0;32m--> 553\u001b[0m \u001b[38;5;28;01mreturn\u001b[39;00m \u001b[38;5;28;43mself\u001b[39;49m\u001b[38;5;241;43m.\u001b[39;49m\u001b[43m_make_api_call\u001b[49m\u001b[43m(\u001b[49m\u001b[43moperation_name\u001b[49m\u001b[43m,\u001b[49m\u001b[43m \u001b[49m\u001b[43mkwargs\u001b[49m\u001b[43m)\u001b[49m\n",
      "File \u001b[0;32m~/anaconda3/envs/python3/lib/python3.10/site-packages/botocore/client.py:1009\u001b[0m, in \u001b[0;36mBaseClient._make_api_call\u001b[0;34m(self, operation_name, api_params)\u001b[0m\n\u001b[1;32m   1005\u001b[0m     error_code \u001b[38;5;241m=\u001b[39m error_info\u001b[38;5;241m.\u001b[39mget(\u001b[38;5;124m\"\u001b[39m\u001b[38;5;124mQueryErrorCode\u001b[39m\u001b[38;5;124m\"\u001b[39m) \u001b[38;5;129;01mor\u001b[39;00m error_info\u001b[38;5;241m.\u001b[39mget(\n\u001b[1;32m   1006\u001b[0m         \u001b[38;5;124m\"\u001b[39m\u001b[38;5;124mCode\u001b[39m\u001b[38;5;124m\"\u001b[39m\n\u001b[1;32m   1007\u001b[0m     )\n\u001b[1;32m   1008\u001b[0m     error_class \u001b[38;5;241m=\u001b[39m \u001b[38;5;28mself\u001b[39m\u001b[38;5;241m.\u001b[39mexceptions\u001b[38;5;241m.\u001b[39mfrom_code(error_code)\n\u001b[0;32m-> 1009\u001b[0m     \u001b[38;5;28;01mraise\u001b[39;00m error_class(parsed_response, operation_name)\n\u001b[1;32m   1010\u001b[0m \u001b[38;5;28;01melse\u001b[39;00m:\n\u001b[1;32m   1011\u001b[0m     \u001b[38;5;28;01mreturn\u001b[39;00m parsed_response\n",
      "\u001b[0;31mResourceNotFoundException\u001b[0m: An error occurred (ResourceNotFoundException) when calling the DeleteDataSource operation: DataSource with id 6C5PDW6EY2 is not found."
     ]
    }
   ],
   "source": [
    "bedrock_agent_client.delete_data_source(dataSourceId = ds[\"dataSourceId\"], knowledgeBaseId=kb['knowledgeBaseId'])\n",
    "bedrock_agent_client.delete_knowledge_base(knowledgeBaseId=kb['knowledgeBaseId'])\n",
    "oss_client.indices.delete(index=index_name)\n",
    "aoss_client.delete_collection(id=collection_id)\n",
    "aoss_client.delete_access_policy(type=\"data\", name=access_policy['accessPolicyDetail']['name'])\n",
    "aoss_client.delete_security_policy(type=\"network\", name=network_policy['securityPolicyDetail']['name'])\n",
    "aoss_client.delete_security_policy(type=\"encryption\", name=encryption_policy['securityPolicyDetail']['name'])"
   ]
  },
  {
   "cell_type": "code",
   "execution_count": 268,
   "id": "f063ddb8",
   "metadata": {},
   "outputs": [
    {
     "data": {
      "text/plain": [
       "0"
      ]
     },
     "execution_count": 268,
     "metadata": {},
     "output_type": "execute_result"
    }
   ],
   "source": [
    "delete_iam_role_and_policies()"
   ]
  },
  {
   "cell_type": "code",
   "execution_count": 269,
   "id": "a6d0140f",
   "metadata": {},
   "outputs": [
    {
     "data": {
      "text/plain": [
       "{'ResponseMetadata': {'RequestId': 'KW363BVTNAVEB1K6',\n",
       "  'HostId': '43EuEwCZY6RH+R5ZcjYIh+8+sQqcIj+VD+3mDLE8CPfbvynb2uECt9FuCaJBZGhNB7LpVho1h+r6Q32PrAQRCA==',\n",
       "  'HTTPStatusCode': 204,\n",
       "  'HTTPHeaders': {'x-amz-id-2': '43EuEwCZY6RH+R5ZcjYIh+8+sQqcIj+VD+3mDLE8CPfbvynb2uECt9FuCaJBZGhNB7LpVho1h+r6Q32PrAQRCA==',\n",
       "   'x-amz-request-id': 'KW363BVTNAVEB1K6',\n",
       "   'date': 'Wed, 05 Jun 2024 18:09:21 GMT',\n",
       "   'server': 'AmazonS3'},\n",
       "  'RetryAttempts': 0}}"
      ]
     },
     "execution_count": 269,
     "metadata": {},
     "output_type": "execute_result"
    }
   ],
   "source": [
    "objects = s3_client.list_objects(Bucket=bucket_name)\n",
    "if 'Contents' in objects:\n",
    "    for obj in objects['Contents']:\n",
    "        s3_client.delete_object(Bucket=bucket_name, Key=obj['Key'])\n",
    "s3_client.delete_bucket(Bucket=bucket_name)"
   ]
  },
  {
   "cell_type": "markdown",
   "id": "14e7800c",
   "metadata": {},
   "source": [
    "# Front End"
   ]
  },
  {
   "cell_type": "code",
   "execution_count": 3,
   "id": "b41aa4a6",
   "metadata": {},
   "outputs": [
    {
     "name": "stdout",
     "output_type": "stream",
     "text": [
      "Requirement already satisfied: streamlit in /home/ec2-user/anaconda3/envs/python3/lib/python3.10/site-packages (1.35.0)\n",
      "Collecting pyngrok\n",
      "  Downloading pyngrok-7.1.6-py3-none-any.whl.metadata (7.4 kB)\n",
      "Requirement already satisfied: altair<6,>=4.0 in /home/ec2-user/anaconda3/envs/python3/lib/python3.10/site-packages (from streamlit) (5.3.0)\n",
      "Requirement already satisfied: blinker<2,>=1.0.0 in /home/ec2-user/anaconda3/envs/python3/lib/python3.10/site-packages (from streamlit) (1.7.0)\n",
      "Requirement already satisfied: cachetools<6,>=4.0 in /home/ec2-user/anaconda3/envs/python3/lib/python3.10/site-packages (from streamlit) (5.3.3)\n",
      "Requirement already satisfied: click<9,>=7.0 in /home/ec2-user/anaconda3/envs/python3/lib/python3.10/site-packages (from streamlit) (8.1.7)\n",
      "Requirement already satisfied: numpy<2,>=1.19.3 in /home/ec2-user/anaconda3/envs/python3/lib/python3.10/site-packages (from streamlit) (1.22.4)\n",
      "Requirement already satisfied: packaging<25,>=16.8 in /home/ec2-user/anaconda3/envs/python3/lib/python3.10/site-packages (from streamlit) (23.2)\n",
      "Requirement already satisfied: pandas<3,>=1.3.0 in /home/ec2-user/anaconda3/envs/python3/lib/python3.10/site-packages (from streamlit) (2.2.1)\n",
      "Requirement already satisfied: pillow<11,>=7.1.0 in /home/ec2-user/anaconda3/envs/python3/lib/python3.10/site-packages (from streamlit) (10.2.0)\n",
      "Requirement already satisfied: protobuf<5,>=3.20 in /home/ec2-user/anaconda3/envs/python3/lib/python3.10/site-packages (from streamlit) (4.25.3)\n",
      "Requirement already satisfied: pyarrow>=7.0 in /home/ec2-user/anaconda3/envs/python3/lib/python3.10/site-packages (from streamlit) (15.0.2)\n",
      "Requirement already satisfied: requests<3,>=2.27 in /home/ec2-user/anaconda3/envs/python3/lib/python3.10/site-packages (from streamlit) (2.31.0)\n",
      "Requirement already satisfied: rich<14,>=10.14.0 in /home/ec2-user/anaconda3/envs/python3/lib/python3.10/site-packages (from streamlit) (13.7.1)\n",
      "Requirement already satisfied: tenacity<9,>=8.1.0 in /home/ec2-user/anaconda3/envs/python3/lib/python3.10/site-packages (from streamlit) (8.2.3)\n",
      "Requirement already satisfied: toml<2,>=0.10.1 in /home/ec2-user/anaconda3/envs/python3/lib/python3.10/site-packages (from streamlit) (0.10.2)\n",
      "Requirement already satisfied: typing-extensions<5,>=4.3.0 in /home/ec2-user/anaconda3/envs/python3/lib/python3.10/site-packages (from streamlit) (4.10.0)\n",
      "Requirement already satisfied: gitpython!=3.1.19,<4,>=3.0.7 in /home/ec2-user/anaconda3/envs/python3/lib/python3.10/site-packages (from streamlit) (3.1.43)\n",
      "Requirement already satisfied: pydeck<1,>=0.8.0b4 in /home/ec2-user/anaconda3/envs/python3/lib/python3.10/site-packages (from streamlit) (0.9.1)\n",
      "Requirement already satisfied: tornado<7,>=6.0.3 in /home/ec2-user/anaconda3/envs/python3/lib/python3.10/site-packages (from streamlit) (6.4)\n",
      "Requirement already satisfied: watchdog>=2.1.5 in /home/ec2-user/anaconda3/envs/python3/lib/python3.10/site-packages (from streamlit) (4.0.0)\n",
      "Requirement already satisfied: PyYAML>=5.1 in /home/ec2-user/anaconda3/envs/python3/lib/python3.10/site-packages (from pyngrok) (6.0.1)\n",
      "Requirement already satisfied: jinja2 in /home/ec2-user/anaconda3/envs/python3/lib/python3.10/site-packages (from altair<6,>=4.0->streamlit) (3.1.3)\n",
      "Requirement already satisfied: jsonschema>=3.0 in /home/ec2-user/anaconda3/envs/python3/lib/python3.10/site-packages (from altair<6,>=4.0->streamlit) (4.21.1)\n",
      "Requirement already satisfied: toolz in /home/ec2-user/anaconda3/envs/python3/lib/python3.10/site-packages (from altair<6,>=4.0->streamlit) (0.12.1)\n",
      "Requirement already satisfied: gitdb<5,>=4.0.1 in /home/ec2-user/anaconda3/envs/python3/lib/python3.10/site-packages (from gitpython!=3.1.19,<4,>=3.0.7->streamlit) (4.0.11)\n",
      "Requirement already satisfied: python-dateutil>=2.8.2 in /home/ec2-user/anaconda3/envs/python3/lib/python3.10/site-packages (from pandas<3,>=1.3.0->streamlit) (2.9.0)\n",
      "Requirement already satisfied: pytz>=2020.1 in /home/ec2-user/anaconda3/envs/python3/lib/python3.10/site-packages (from pandas<3,>=1.3.0->streamlit) (2024.1)\n",
      "Requirement already satisfied: tzdata>=2022.7 in /home/ec2-user/anaconda3/envs/python3/lib/python3.10/site-packages (from pandas<3,>=1.3.0->streamlit) (2024.1)\n",
      "Requirement already satisfied: charset-normalizer<4,>=2 in /home/ec2-user/anaconda3/envs/python3/lib/python3.10/site-packages (from requests<3,>=2.27->streamlit) (3.3.2)\n",
      "Requirement already satisfied: idna<4,>=2.5 in /home/ec2-user/anaconda3/envs/python3/lib/python3.10/site-packages (from requests<3,>=2.27->streamlit) (3.6)\n",
      "Requirement already satisfied: urllib3<3,>=1.21.1 in /home/ec2-user/anaconda3/envs/python3/lib/python3.10/site-packages (from requests<3,>=2.27->streamlit) (1.26.18)\n",
      "Requirement already satisfied: certifi>=2017.4.17 in /home/ec2-user/anaconda3/envs/python3/lib/python3.10/site-packages (from requests<3,>=2.27->streamlit) (2024.2.2)\n",
      "Requirement already satisfied: markdown-it-py>=2.2.0 in /home/ec2-user/anaconda3/envs/python3/lib/python3.10/site-packages (from rich<14,>=10.14.0->streamlit) (3.0.0)\n",
      "Requirement already satisfied: pygments<3.0.0,>=2.13.0 in /home/ec2-user/anaconda3/envs/python3/lib/python3.10/site-packages (from rich<14,>=10.14.0->streamlit) (2.17.2)\n",
      "Requirement already satisfied: smmap<6,>=3.0.1 in /home/ec2-user/anaconda3/envs/python3/lib/python3.10/site-packages (from gitdb<5,>=4.0.1->gitpython!=3.1.19,<4,>=3.0.7->streamlit) (5.0.1)\n",
      "Requirement already satisfied: MarkupSafe>=2.0 in /home/ec2-user/anaconda3/envs/python3/lib/python3.10/site-packages (from jinja2->altair<6,>=4.0->streamlit) (2.1.5)\n",
      "Requirement already satisfied: attrs>=22.2.0 in /home/ec2-user/anaconda3/envs/python3/lib/python3.10/site-packages (from jsonschema>=3.0->altair<6,>=4.0->streamlit) (23.2.0)\n",
      "Requirement already satisfied: jsonschema-specifications>=2023.03.6 in /home/ec2-user/anaconda3/envs/python3/lib/python3.10/site-packages (from jsonschema>=3.0->altair<6,>=4.0->streamlit) (2023.12.1)\n",
      "Requirement already satisfied: referencing>=0.28.4 in /home/ec2-user/anaconda3/envs/python3/lib/python3.10/site-packages (from jsonschema>=3.0->altair<6,>=4.0->streamlit) (0.34.0)\n",
      "Requirement already satisfied: rpds-py>=0.7.1 in /home/ec2-user/anaconda3/envs/python3/lib/python3.10/site-packages (from jsonschema>=3.0->altair<6,>=4.0->streamlit) (0.18.0)\n",
      "Requirement already satisfied: mdurl~=0.1 in /home/ec2-user/anaconda3/envs/python3/lib/python3.10/site-packages (from markdown-it-py>=2.2.0->rich<14,>=10.14.0->streamlit) (0.1.2)\n",
      "Requirement already satisfied: six>=1.5 in /home/ec2-user/anaconda3/envs/python3/lib/python3.10/site-packages (from python-dateutil>=2.8.2->pandas<3,>=1.3.0->streamlit) (1.16.0)\n",
      "Downloading pyngrok-7.1.6-py3-none-any.whl (22 kB)\n",
      "Installing collected packages: pyngrok\n",
      "Successfully installed pyngrok-7.1.6\n",
      "Authtoken saved to configuration file: /home/ec2-user/.config/ngrok/ngrok.yml                       \n"
     ]
    }
   ],
   "source": [
    "!pip install streamlit pyngrok\n",
    "!ngrok authtoken 2hU9OKCA3HKDJIr8MfKO23RcZt4_33tVjMrFJsfGQu54RBD42\n"
   ]
  },
  {
   "cell_type": "code",
   "execution_count": 10,
   "id": "b5e377bf",
   "metadata": {},
   "outputs": [],
   "source": [
    "with open('app.py', 'w') as f:\n",
    "    f.write('''\n",
    "    import streamlit as st\n",
    "\n",
    "    st.title('Streamlit in Jupyter Example')\n",
    "    \n",
    "    name = st.text_input('Enter your name:')\n",
    "    age = st.slider('Select your age:', 0, 100, 25)\n",
    "    \n",
    "    if st.button('Submit'):\n",
    "        st.write(f'Hello, {name}! You are {age} years old.')\n",
    "    ''')"
   ]
  },
  {
   "cell_type": "code",
   "execution_count": 14,
   "id": "74a1696c",
   "metadata": {},
   "outputs": [
    {
     "name": "stdout",
     "output_type": "stream",
     "text": [
      "Streamlit app is running at NgrokTunnel: \"https://a75e-34-215-69-55.ngrok-free.app\" -> \"http://localhost:8501\"\n",
      "\n",
      "Collecting usage statistics. To deactivate, set browser.gatherUsageStats to false.\n",
      "\n",
      "\n",
      "  You can now view your Streamlit app in your browser.\n",
      "\n",
      "  Local URL: http://localhost:8510\n",
      "  Network URL: http://172.16.62.40:8510\n",
      "  External URL: http://34.215.69.55:8510\n",
      "\n"
     ]
    }
   ],
   "source": [
    "from pyngrok import ngrok\n",
    "import subprocess\n",
    "\n",
    "# Start the Streamlit app\n",
    "streamlit_process = subprocess.Popen(['streamlit', 'run', 'app.py'])\n",
    "\n",
    "# Open a ngrok tunnel to the Streamlit app\n",
    "public_url = ngrok.connect(8501)\n",
    "print(f'Streamlit app is running at {public_url}')\n"
   ]
  },
  {
   "cell_type": "code",
   "execution_count": null,
   "id": "007ded6f",
   "metadata": {},
   "outputs": [],
   "source": []
  }
 ],
 "metadata": {
  "kernelspec": {
   "display_name": "conda_python3",
   "language": "python",
   "name": "conda_python3"
  },
  "language_info": {
   "codemirror_mode": {
    "name": "ipython",
    "version": 3
   },
   "file_extension": ".py",
   "mimetype": "text/x-python",
   "name": "python",
   "nbconvert_exporter": "python",
   "pygments_lexer": "ipython3",
   "version": "3.10.14"
  }
 },
 "nbformat": 4,
 "nbformat_minor": 5
}
